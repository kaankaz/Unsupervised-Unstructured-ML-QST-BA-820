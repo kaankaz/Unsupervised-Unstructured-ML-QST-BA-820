{
 "cells": [
  {
   "cell_type": "markdown",
   "metadata": {},
   "source": [
    "# BA 820 Homework 2\n",
    "\n",
    "Group Name: B9\n",
    "Member Names: Kaan Kazancoglu\n",
    "\n",
    "Reminder: you should not be sharing code across groups"
   ]
  },
  {
   "cell_type": "markdown",
   "metadata": {},
   "source": [
    "## Question 1: Clustering emails using Gaussian Mixture Models [50 pts]"
   ]
  },
  {
   "cell_type": "markdown",
   "metadata": {},
   "source": [
    "For this problem, we will be analyzing emails taken from the [Enron Email Dataset](https://www.cs.cmu.edu/~enron/). We have already curated the data for you in the `data/enron` directory, with one file per email (so there is no need to redownload the dataset as it is already included in this homework zip archive). The dataset includes a combination of \"spam\" and \"ham\" emails. Spam emails are unsolicited messages intended to sell a product or scam users into providing personal information, while ham emails represent everything that is not spam.\n",
    "\n",
    "The language used in spam emails tends to be considerably different from typical business emails. Most spam filters leverage this difference in word frequencies to detect spam as it arrives and filter it out of email inboxes. We will use Gaussian Mixture Models (GMMs) to cluster the emails and attempt to identify groups of emails which are likely to be spam."
   ]
  },
  {
   "cell_type": "markdown",
   "metadata": {},
   "source": [
    "### Part A: Construct a list of processed documents [10 points]"
   ]
  },
  {
   "cell_type": "markdown",
   "metadata": {},
   "source": [
    "Provided below is a function that returns a document present in a file given a filename. The function performs some preprocessing to (1) remove punctuation, (2),(3) remove whitespace and (4) lowercase all words. Using the `make_word_list` function, construct a list of processed documents."
   ]
  },
  {
   "cell_type": "code",
   "execution_count": 232,
   "metadata": {},
   "outputs": [],
   "source": [
    "import re\n",
    "import string\n",
    "import codecs\n",
    "\n",
    "def make_word_list(path):\n",
    "    \n",
    "    with codecs.open(path, \"r\", encoding='utf-8', errors='ignore') as f:\n",
    "        corpus_text = f.read()\n",
    "\n",
    "    for c in string.punctuation:\n",
    "        corpus_text = corpus_text.replace(c, \"\")  # -- (1)\n",
    "    \n",
    "    text = re.sub(r'\\S*\\d\\S*', '', corpus_text) # -- (2)\n",
    "    text = re.sub(r'[^\\w\\s]', '', text)         # -- (3)\n",
    "    \n",
    "    text = text.lower().split()           # -- (4)         \n",
    "    \n",
    "    li = []\n",
    "    for token in text:\n",
    "        li.append(token)\n",
    "\n",
    "    return \" \".join(li)\n",
    "\n"
   ]
  },
  {
   "cell_type": "code",
   "execution_count": 10,
   "metadata": {},
   "outputs": [
    {
     "data": {
      "text/plain": [
       "5171"
      ]
     },
     "execution_count": 10,
     "metadata": {},
     "output_type": "execute_result"
    }
   ],
   "source": [
    "########################################################################\n",
    "######################### \n",
    "#0005.2001-06-23.txt\n",
    "#'./data/enron/2590.2000-09-18.txt' : length 2939\n",
    "import glob\n",
    "\n",
    "documents = glob.glob(\"./data/enron/*.txt\")\n",
    "processed_doc_list = []\n",
    "\n",
    "def make_word_list(path):\n",
    "    \n",
    "    with codecs.open(path, \"r\", encoding='utf-8', errors='ignore') as f:\n",
    "        corpus_text = f.read()\n",
    "\n",
    "    for c in string.punctuation:\n",
    "        corpus_text = corpus_text.replace(c, \"\")  # -- (1)\n",
    "    \n",
    "    text = re.sub(r'\\S*\\d\\S*', '', corpus_text) # -- (2)\n",
    "    text = re.sub(r'[^\\w\\s]', '', text)         # -- (3)\n",
    "    \n",
    "    text = text.lower().split()           # -- (4)         \n",
    "    #removed the unnecessary part about \"converting list to string then to list again\" and modified the code   \n",
    "    processed_doc = \" \".join(text)\n",
    "    \n",
    "    return processed_doc_list.append(processed_doc)\n",
    "\n",
    "for doc in documents:\n",
    "    \n",
    "    make_word_list(doc)\n",
    "    \n",
    "len(processed_doc_list)\n",
    "\n",
    "#########################\n",
    "########################################################################"
   ]
  },
  {
   "cell_type": "markdown",
   "metadata": {},
   "source": [
    "### Part B: Construct a document matrix [10 points]"
   ]
  },
  {
   "cell_type": "markdown",
   "metadata": {},
   "source": [
    "Next, construct a document matrix `X` as a matrix of [TF-IDF](https://en.wikipedia.org/wiki/Tf%E2%80%93idf) features for each document. TF-IDF features encode information about the word frequency within a document, weighted by the frequency of the same word for corpus as a whole.\n",
    "\n",
    "   - Use the `TfidfVectorizer` from [scikit-learn](http://scikit-learn.org/stable/modules/generated/sklearn.feature_extraction.text.TfidfVectorizer.html) to create the document matrix `X`.\n",
    "   - Set `min_df=50`; this drops words that don't occur in at least 50 documents.\n",
    "   - Set `stop_words=\"english\"` and `max_df=0.8` to filter out stop-words.\n",
    "   - Print the number of unique words in the vocabulary Hint: Look for the `vocabulary_` attribute in the `TfidfVectorizer` object after fitting the vectorizer to the data set. The vocabulary will also be needed in part (d)."
   ]
  },
  {
   "cell_type": "code",
   "execution_count": 233,
   "metadata": {},
   "outputs": [
    {
     "name": "stdout",
     "output_type": "stream",
     "text": [
      "<class 'scipy.sparse.csr.csr_matrix'>\n",
      "<class 'numpy.ndarray'>\n",
      "1680\n",
      "1680\n"
     ]
    }
   ],
   "source": [
    "########################################################################\n",
    "######################### \n",
    "from sklearn.feature_extraction.text import TfidfVectorizer\n",
    "\n",
    "vectorizer = TfidfVectorizer(min_df=50, stop_words=\"english\", max_df=0.8)\n",
    "\n",
    "\n",
    "X_sparse = vectorizer.fit_transform(processed_doc_list)\n",
    "\n",
    "X = X_sparse.toarray()\n",
    "\n",
    "print(type(X_sparse))\n",
    "\n",
    "# Densed matrix X:\n",
    "print(type(X))\n",
    "\n",
    "\n",
    "# length of vocab (1)\n",
    "print(X.shape[1])\n",
    "# length of vocab (2)\n",
    "print(len(vectorizer.vocabulary_))\n",
    "#########################\n",
    "########################################################################"
   ]
  },
  {
   "cell_type": "markdown",
   "metadata": {},
   "source": [
    "### Part C: Perform Clustering [10 points]"
   ]
  },
  {
   "cell_type": "markdown",
   "metadata": {},
   "source": [
    "Perform clustering on the document matrix `X` using GMMs. \n",
    "- Use the `GaussianMixture` module from [scikit-learn](http://scikit-learn.org/stable/modules/generated/sklearn.mixture.GaussianMixture.html) to cluster the documents.\n",
    "- Set the number of clusters (mixture components) to 3.\n",
    "- Print the number of documents assigned to each cluster."
   ]
  },
  {
   "cell_type": "code",
   "execution_count": 21,
   "metadata": {},
   "outputs": [
    {
     "name": "stdout",
     "output_type": "stream",
     "text": [
      "Number of documents in each cluster:\n",
      "\n",
      "Cluster 0 : 2607\n",
      "Cluster 1 : 2200\n",
      "Cluster 2 : 364\n"
     ]
    }
   ],
   "source": [
    "########################################################################\n",
    "######################### \n",
    "\n",
    "import numpy as np\n",
    "from sklearn.mixture import GaussianMixture\n",
    "\n",
    "clusters = 3\n",
    "gmm = GaussianMixture(n_components = clusters, random_state = 11)\n",
    "\n",
    "gmm.fit(X)\n",
    "\n",
    "print(\"Number of documents in each cluster:\\n\")\n",
    "   \n",
    "for i in range(len(gmm.weights_)):\n",
    "    print(\"Cluster\",str(i),\":\",round(gmm.weights_[i]*5171))\n",
    "\n",
    "\n",
    "#Alternative way of printing the number of documents in each cluster using predict() method: \n",
    "#predicted = gmm.predict(X)\n",
    "#for i in range(len(gmm.weights_)):\n",
    "#    print((predicted == i).sum())\n",
    "\n",
    "#########################\n",
    "########################################################################"
   ]
  },
  {
   "cell_type": "markdown",
   "metadata": {},
   "source": [
    "### Part D: Characterize the clusters [10 points]"
   ]
  },
  {
   "cell_type": "markdown",
   "metadata": {},
   "source": [
    "Now, we will attempt to characterize the clusters based on the frequency of spam-relevant words. \n",
    "- Select 3 \"spammy\" words from the vocabulary that you expect to occur frequently in spam emails and less frequently in normal business emails (e.g., 'click', 'www', 'offer'). Construct a list, `spam_indices`, storing the indices of the spammy words you selected in the vocabulary generated by `TfidfVectorizer`.\n",
    "- Select 3 \"hammy\" words from the vocabulary you think will occur frequently in business emails and infrequently in spam emails (e.g., 'meeting', 'attached', 'review'). Construct a list, `ham_indices`, storing the indices of the hammy words you selected in the vocabulary generated by `TfidfVectorizer`.\n",
    "- Use the function provided below, `plot_spam_words_by_cluster`, to plot the average TF-IDF features for your selected spammy words and hammy words for each cluster. The function takes the following parameters:\n",
    "    - `X` is a matrix of TF-IDF features (rows index documents, columns index terms).\n",
    "    - `predicted` is predicted cluster assignments returned by `GaussianMixture.predict()`\n",
    "    - `n_clusters` is the number of clusters. This should match the number of clusters from your GMM.\n",
    "    - `spam_indices` is a list of indices of spammy words in the vocabulary.\n",
    "    - `ham_indices` is a list of indices of hammy (typical business) words in the vocabulary."
   ]
  },
  {
   "cell_type": "code",
   "execution_count": 19,
   "metadata": {},
   "outputs": [],
   "source": [
    "def plot_spam_words_by_cluster(X, predicted, n_clusters, spam_indices, ham_indices):\n",
    "    import numpy as np\n",
    "    import matplotlib.pyplot as plt\n",
    "    \n",
    "    # Calculate mean TF-IDF features for each cluster\n",
    "    mean_tfidf_spam = []\n",
    "    mean_tfidf_ham = []\n",
    "    for spam in spam_indices:\n",
    "        mean_tfidf_spam.append([])\n",
    "    for ham in ham_indices:\n",
    "        mean_tfidf_ham.append([])\n",
    "    \n",
    "    for i in range(n_clusters):\n",
    "        for j, spam_idx in enumerate(spam_indices):\n",
    "            mean_tfidf_spam[j].append(X[predicted==i, spam_idx].mean())\n",
    "        for j, ham_idx in enumerate(ham_indices):\n",
    "            mean_tfidf_ham[j].append(X[predicted==i, ham_idx].mean())\n",
    "    \n",
    "    # Generate plot\n",
    "    fig, ax = plt.subplots()\n",
    "\n",
    "    ind = np.arange(n_clusters)    # the x locations for the groups\n",
    "    width = 0.10         # the width of the bars\n",
    "\n",
    "    # Plot spam bars\n",
    "    for i, val in enumerate(mean_tfidf_spam):\n",
    "        spam_bar = ax.bar(ind - (len(mean_tfidf_spam)-i-1)*width, val, width, color='r', bottom=0)\n",
    "\n",
    "    # Plot ham bars\n",
    "    for i, val in enumerate(mean_tfidf_ham):\n",
    "        ham_bar = ax.bar(ind + (len(mean_tfidf_ham)-i)*width, val, width,\n",
    "                color='y', bottom=0)\n",
    "\n",
    "    ax.set_title('Mean TF-IDF Features by Cluster for Spam-Relevant Words')\n",
    "    ax.set_xticks(ind + width / 2)\n",
    "    xticklabels = []\n",
    "    for i in range(n_clusters):\n",
    "        xticklabels.append('Cluster ' + str(i) + '\\n(n=' + str((predicted==i).sum()) + ')')\n",
    "    ax.set_xticklabels(xticklabels)\n",
    "\n",
    "    ax.legend((spam_bar[0], ham_bar[0]), ('Spammy words', 'Hammy words'))\n",
    "    ax.autoscale_view()\n",
    "    ax.set_ylabel('Mean TF-IDF')\n",
    "    plt.show()"
   ]
  },
  {
   "cell_type": "code",
   "execution_count": 22,
   "metadata": {},
   "outputs": [
    {
     "name": "stdout",
     "output_type": "stream",
     "text": [
      "[238, 1670, 998]\n",
      "[904, 108, 1283]\n"
     ]
    },
    {
     "data": {
      "image/png": "[encoded data removed]",
      "text/plain": [
       "<Figure size 432x288 with 1 Axes>"
      ]
     },
     "metadata": {
      "needs_background": "light"
     },
     "output_type": "display_data"
    }
   ],
   "source": [
    "########################################################################\n",
    "######################### \n",
    "predicted = gmm.predict(X)\n",
    "n_clusters = clusters\n",
    "\n",
    "spam_indices = []\n",
    "ham_indices = []\n",
    "\n",
    "#spammy:\n",
    "for word in ['click', 'www', 'offer']:\n",
    "    spam_indices.append(vectorizer.vocabulary_[word])\n",
    "#hammy:    \n",
    "for word in ['meeting', 'attached', 'review']:\n",
    "    ham_indices.append(vectorizer.vocabulary_[word])\n",
    "    \n",
    "print(spam_indices)\n",
    "print(ham_indices)\n",
    "\n",
    "#plot:\n",
    "plot_spam_words_by_cluster(X, predicted, n_clusters, spam_indices, ham_indices)\n",
    "\n",
    "#########################\n",
    "########################################################################"
   ]
  },
  {
   "cell_type": "markdown",
   "metadata": {},
   "source": [
    "### Part E: Interpret results [10 points]"
   ]
  },
  {
   "cell_type": "markdown",
   "metadata": {},
   "source": [
    "From the plot generated in part (d), do any of the clusters correspond to spam emails, based on the frequency of spammy and hammy words? Do any of the clusters appear to correspond to typical business emails (ham)? \n",
    "\n",
    "Re-run your analysis with a different choice for the number of clusters in your GMM (e.g., `n_clusters=5` or `n_clusters=2`). How does changing the number of clusters affect your results? Does one choice of `n_clusters` appear better than another for locating clusters of spam emails?"
   ]
  },
  {
   "cell_type": "markdown",
   "metadata": {},
   "source": [
    "*** According to plot in part d, Cluster 1 corresponds to spam emails whereas Cluster 0 and Cluster 2 corresponds to ham emails based on the frequencies of choosen hammy and spammy words. I re-ran the analysis with different number of clusters based on the calinski_harabasz_scores I calculated in a different jupyter notebook, found that k=8 has the best score with 88.35. However, after setting k=8, while I have observed more definitive clusters in terms of the distributions of hammy/spammy words, I have also noticed that number of documents per cluster decreased significantly, therefore some clusters have been formed by containing only one or two word. I believe this might lead us harder to interpret the characters of each cluster.  ***"
   ]
  },
  {
   "cell_type": "code",
   "execution_count": 92,
   "metadata": {},
   "outputs": [
    {
     "name": "stdout",
     "output_type": "stream",
     "text": [
      "[238, 1670, 998]\n",
      "[904, 108, 1283]\n"
     ]
    },
    {
     "data": {
      "image/png": "[encoded data removed]",
      "text/plain": [
       "<Figure size 432x288 with 1 Axes>"
      ]
     },
     "metadata": {
      "needs_background": "light"
     },
     "output_type": "display_data"
    }
   ],
   "source": [
    "########################################################################\n",
    "######################### \n",
    "clusters = 8\n",
    "gmm = GaussianMixture(n_components = clusters, random_state = 11)\n",
    "gmm.fit(X)\n",
    "predicted = gmm.predict(X)\n",
    "n_clusters = clusters\n",
    "\n",
    "spam_indices = []\n",
    "ham_indices = []\n",
    "\n",
    "#spammy:\n",
    "for word in ['click', 'www', 'offer']:\n",
    "    spam_indices.append(vectorizer.vocabulary_[word])\n",
    "#hammy:    \n",
    "for word in ['meeting', 'attached', 'review']:\n",
    "    ham_indices.append(vectorizer.vocabulary_[word])\n",
    "    \n",
    "print(spam_indices)\n",
    "print(ham_indices)\n",
    "\n",
    "#plot:\n",
    "plot_spam_words_by_cluster(X, predicted, n_clusters, spam_indices, ham_indices)\n",
    "\n",
    "#########################\n",
    "########################################################################"
   ]
  },
  {
   "cell_type": "markdown",
   "metadata": {},
   "source": [
    "## Question 2: Latent \"Purposes\" in Mobile Apps [50 points]\n",
    "\n",
    "\n",
    "Think of Android applications as \"documents\", where \"words\" are the \"permissions\" that each app requests. Each app has a set of latent \"purposes\" (topics); a \"purpose\" may be a specific task (such as taking photographs and uploading them to the internet), and an application may have a mixture of purposes of varying strength.\n",
    "\n",
    "Can we uncover these purposes from a dataset of Android applications and the permissions they request?"
   ]
  },
  {
   "cell_type": "code",
   "execution_count": 23,
   "metadata": {},
   "outputs": [],
   "source": [
    "import numpy as np\n",
    "import matplotlib.pyplot as plt\n",
    "import pandas as pd\n",
    "%matplotlib inline"
   ]
  },
  {
   "cell_type": "markdown",
   "metadata": {},
   "source": [
    "### Part A: Load the data [0 points]"
   ]
  },
  {
   "cell_type": "markdown",
   "metadata": {},
   "source": [
    "The [dataset](http://www.mariofrank.net/andrApps/) contains ~180,000 applications from the Android app store, including each app's name, description and permissions requested. For more about Android app permissions, see [this report](http://www.pewinternet.org/2015/11/10/an-analysis-of-android-app-permissions/).\n",
    "\n",
    "   * Download the data and unzip it into the same folder as this notebook.\n",
    "   * Rename the CSV file to \"android.csv\".\n",
    "   * Run the cells below to load the data into the notebook.\n",
    "\n",
    "This may take up ~2GB of RAM."
   ]
  },
  {
   "cell_type": "code",
   "execution_count": 32,
   "metadata": {},
   "outputs": [],
   "source": [
    "df = pd.read_csv(\"android.csv\", sep=\",\",  thousands=\",\")"
   ]
  },
  {
   "cell_type": "code",
   "execution_count": 33,
   "metadata": {},
   "outputs": [],
   "source": [
    "df[\"Number of ratings\"] = df[\"Number of ratings\"].astype(int) # fix data type\n",
    "df = df.drop_duplicates(subset=[\"App\"]).reset_index(drop=True)"
   ]
  },
  {
   "cell_type": "code",
   "execution_count": 34,
   "metadata": {},
   "outputs": [
    {
     "data": {
      "text/plain": [
       "(180295, 183)"
      ]
     },
     "execution_count": 34,
     "metadata": {},
     "output_type": "execute_result"
    }
   ],
   "source": [
    "df.head(n=3)\n",
    "df.shape"
   ]
  },
  {
   "cell_type": "markdown",
   "metadata": {},
   "source": [
    "### Part B: Convert each app into a \"document\" [0 points]\n",
    "\n",
    "The code below does the following:\n",
    "\n",
    "   * Filter out all the columns except the permission columns.\n",
    "   * Convert this dataframe into a numpy matrix.\n",
    "\n",
    "There are thus 180295 apps (documents) and 173 permissions (words).\n",
    "\n",
    "   - `X` is the \"document\" or \"word-frequency\" matrix.\n",
    "   - `permission_columns` contains the words ordered by their column index in X.\n",
    "   - `app_names` contains the application names ordered by their row index in X.\n",
    "   - `app_ratings` contains the *number* of application ratings (not the ratings themselves)."
   ]
  },
  {
   "cell_type": "code",
   "execution_count": 58,
   "metadata": {},
   "outputs": [
    {
     "data": {
      "text/plain": [
       "['Default : Access DRM content. (S)',\n",
       " 'Default : Access Email provider data (S)',\n",
       " 'Default : Access all system downloads (S)',\n",
       " 'Default : Access download manager. (S)',\n",
       " 'Default : Advanced download manager functions. (S)',\n",
       " 'Default : Audio File Access (S)',\n",
       " 'Default : Install DRM content. (S)',\n",
       " 'Default : Modify Google service configuration (S)',\n",
       " 'Default : Modify Google settings (S)',\n",
       " 'Default : Move application resources (S)',\n",
       " 'Default : Read Google settings (S)',\n",
       " 'Default : Send download notifications. (S)',\n",
       " 'Default : Voice Search Shortcuts (S)',\n",
       " 'Default : access SurfaceFlinger (S)',\n",
       " 'Default : access checkin properties (S)',\n",
       " 'Default : access the cache filesystem (S)',\n",
       " 'Default : access to passwords for Google accounts (S)',\n",
       " 'Default : act as an account authenticator (S)',\n",
       " 'Default : bind to a wallpaper (S)',\n",
       " 'Default : bind to an input method (S)',\n",
       " 'Default : change screen orientation (S)',\n",
       " 'Default : coarse (network-based) location (S)',\n",
       " 'Default : control location update notifications (S)',\n",
       " 'Default : control system backup and restore (S)',\n",
       " 'Default : delete applications (S)',\n",
       " \"Default : delete other applications' caches (S)\",\n",
       " \"Default : delete other applications' data (S)\",\n",
       " 'Default : directly call any phone numbers (S)',\n",
       " 'Default : directly install applications (S)',\n",
       " 'Default : disable or modify status bar (S)',\n",
       " 'Default : discover known accounts (S)',\n",
       " 'Default : display unauthorized windows (S)',\n",
       " 'Default : enable or disable application components (S)',\n",
       " 'Default : force application to close (S)',\n",
       " 'Default : force device reboot (S)',\n",
       " 'Default : full Internet access (S)',\n",
       " 'Default : interact with a device admin (S)',\n",
       " 'Default : manage application tokens (S)',\n",
       " 'Default : mock location sources for testing (S)',\n",
       " 'Default : modify battery statistics (S)',\n",
       " 'Default : modify secure system settings (S)',\n",
       " 'Default : modify the Google services map (S)',\n",
       " 'Default : modify/delete USB storage contents modify/delete SD card contents (S)',\n",
       " 'Default : monitor and control all application launching (S)',\n",
       " 'Default : partial shutdown (S)',\n",
       " 'Default : permanently disable device (S)',\n",
       " 'Default : permission to install a location provider (S)',\n",
       " 'Default : power device on or off (S)',\n",
       " 'Default : press keys and control buttons (S)',\n",
       " 'Default : prevent app switches (S)',\n",
       " 'Default : read frame buffer (S)',\n",
       " 'Default : read instant messages (S)',\n",
       " 'Default : read phone state and identity (S)',\n",
       " 'Default : record what you type and actions you take (S)',\n",
       " 'Default : reset system to factory defaults (S)',\n",
       " 'Default : run in factory test mode (S)',\n",
       " 'Default : set time (S)',\n",
       " 'Default : set wallpaper size hints (S)',\n",
       " 'Default : start IM service (S)',\n",
       " 'Default : update component usage statistics (S)',\n",
       " 'Default : write contact data (S)',\n",
       " 'Default : write instant messages (S)',\n",
       " 'Development tools : enable application debugging (D)',\n",
       " 'Development tools : limit number of running processes (D)',\n",
       " 'Development tools : make all background applications close (D)',\n",
       " 'Development tools : send Linux signals to applications (D)',\n",
       " 'Hardware controls : change your audio settings (D)',\n",
       " 'Hardware controls : control flashlight (S)',\n",
       " 'Hardware controls : control vibrator (S)',\n",
       " 'Hardware controls : record audio (D)',\n",
       " 'Hardware controls : take pictures and videos (D)',\n",
       " 'Hardware controls : test hardware (S)',\n",
       " 'Network communication : Broadcast data messages to applications. (S)',\n",
       " 'Network communication : control Near Field Communication (D)',\n",
       " 'Network communication : create Bluetooth connections (D)',\n",
       " 'Network communication : download files without notification (S)',\n",
       " 'Network communication : full Internet access (D)',\n",
       " 'Network communication : make/receive Internet calls (D)',\n",
       " 'Network communication : receive data from Internet (S)',\n",
       " 'Network communication : view Wi-Fi state (S)',\n",
       " 'Network communication : view network state (S)',\n",
       " 'Phone calls : intercept outgoing calls (D)',\n",
       " 'Phone calls : modify phone state (S)',\n",
       " 'Phone calls : read phone state and identity (D)',\n",
       " 'Services that cost you money : directly call phone numbers (D)',\n",
       " 'Services that cost you money : send SMS messages (D)',\n",
       " 'Storage : modify/delete USB storage contents modify/delete SD card contents (D)',\n",
       " 'System tools : allow Wi-Fi Multicast reception (D)',\n",
       " 'System tools : automatically start at boot (S)',\n",
       " 'System tools : bluetooth administration (D)',\n",
       " 'System tools : change Wi-Fi state (D)',\n",
       " 'System tools : change background data usage setting (S)',\n",
       " 'System tools : change network connectivity (D)',\n",
       " 'System tools : change your UI settings (D)',\n",
       " 'System tools : delete all application cache data (D)',\n",
       " 'System tools : disable keylock (D)',\n",
       " 'System tools : display system-level alerts (D)',\n",
       " 'System tools : expand/collapse status bar (S)',\n",
       " 'System tools : force stop other applications (S)',\n",
       " 'System tools : format external storage (D)',\n",
       " 'System tools : kill background processes (S)',\n",
       " 'System tools : make application always run (D)',\n",
       " 'System tools : measure application storage space (S)',\n",
       " 'System tools : modify global animation speed (D)',\n",
       " 'System tools : modify global system settings (D)',\n",
       " 'System tools : mount and unmount filesystems (D)',\n",
       " 'System tools : prevent device from sleeping (D)',\n",
       " 'System tools : read subscribed feeds (S)',\n",
       " 'System tools : read sync settings (S)',\n",
       " 'System tools : read sync statistics (S)',\n",
       " 'System tools : read/write to resources owned by diag (S)',\n",
       " 'System tools : reorder running applications (D)',\n",
       " 'System tools : retrieve running applications (D)',\n",
       " 'System tools : send package removed broadcast (S)',\n",
       " 'System tools : send sticky broadcast (S)',\n",
       " 'System tools : set preferred applications (S)',\n",
       " 'System tools : set time zone (D)',\n",
       " 'System tools : set wallpaper (S)',\n",
       " 'System tools : set wallpaper size hints (S)',\n",
       " 'System tools : write Access Point Name settings (D)',\n",
       " 'System tools : write subscribed feeds (D)',\n",
       " 'System tools : write sync settings (D)',\n",
       " 'Your accounts : Blogger (D)',\n",
       " 'Your accounts : Google App Engine (D)',\n",
       " 'Your accounts : Google Docs (D)',\n",
       " 'Your accounts : Google Finance (D)',\n",
       " 'Your accounts : Google Maps (D)',\n",
       " 'Your accounts : Google Spreadsheets (D)',\n",
       " 'Your accounts : Google Voice (D)',\n",
       " 'Your accounts : Google mail (D)',\n",
       " 'Your accounts : Picasa Web Albums (D)',\n",
       " 'Your accounts : YouTube (D)',\n",
       " 'Your accounts : YouTube usernames (D)',\n",
       " 'Your accounts : access all Google services (S)',\n",
       " 'Your accounts : access other Google services (D)',\n",
       " 'Your accounts : act as an account authenticator (D)',\n",
       " 'Your accounts : act as the AccountManagerService (S)',\n",
       " 'Your accounts : contacts data in Google accounts (D)',\n",
       " 'Your accounts : discover known accounts (S)',\n",
       " 'Your accounts : manage the accounts list (D)',\n",
       " 'Your accounts : read Google service configuration (S)',\n",
       " 'Your accounts : use the authentication credentials of an account (D)',\n",
       " 'Your accounts : view configured accounts (S)',\n",
       " 'Your location : access extra location provider commands (S)',\n",
       " 'Your location : coarse (network-based) location (D)',\n",
       " 'Your location : fine (GPS) location (D)',\n",
       " 'Your location : mock location sources for testing (D)',\n",
       " 'Your messages : Read Email attachments (D)',\n",
       " 'Your messages : Send Gmail (S)',\n",
       " 'Your messages : edit SMS or MMS (D)',\n",
       " 'Your messages : modify Gmail (D)',\n",
       " 'Your messages : read Gmail (D)',\n",
       " 'Your messages : read Gmail attachment previews (D)',\n",
       " 'Your messages : read SMS or MMS (D)',\n",
       " 'Your messages : read instant messages (D)',\n",
       " 'Your messages : receive MMS (D)',\n",
       " 'Your messages : receive SMS (D)',\n",
       " 'Your messages : receive WAP (D)',\n",
       " 'Your messages : send SMS-received broadcast (S)',\n",
       " 'Your messages : send WAP-PUSH-received broadcast (S)',\n",
       " 'Your messages : write instant messages (D)',\n",
       " 'Your personal information : add or modify calendar events and send email to guests (D)',\n",
       " 'Your personal information : choose widgets (S)',\n",
       " \"Your personal information : read Browser's history and bookmarks (D)\",\n",
       " 'Your personal information : read calendar events (D)',\n",
       " 'Your personal information : read contact data (D)',\n",
       " 'Your personal information : read sensitive log data (D)',\n",
       " 'Your personal information : read user defined dictionary (D)',\n",
       " 'Your personal information : retrieve system internal state (S)',\n",
       " 'Your personal information : set alarm in alarm clock (S)',\n",
       " \"Your personal information : write Browser's history and bookmarks (D)\",\n",
       " 'Your personal information : write contact data (D)',\n",
       " 'Your personal information : write to user defined dictionary (S)']"
      ]
     },
     "execution_count": 58,
     "metadata": {},
     "output_type": "execute_result"
    }
   ],
   "source": [
    "permission_columns = list(df.columns[10:])\n",
    "app_names = list(df[\"App\"])\n",
    "app_ratings = np.array(df[\"Number of ratings\"])\n",
    "df_perms = df[permission_columns]\n",
    "X = df_perms.values\n",
    "permission_columns\n",
    "#X[:10]\n",
    "#del df # uncomment to free up RAM\n",
    "#del df_perms # uncomment to free up RAM"
   ]
  },
  {
   "cell_type": "markdown",
   "metadata": {},
   "source": [
    "### Part C: Downweight \"stopwords\" [2.5 points]\n",
    "\n",
    "There are some permissions requested by almost all applications (like \"INTERNET\"), they are similar to stop-words (\"the\", \"and\", etc.) in natural language. We can downweight them by TF-IDF normalization.\n",
    "\n",
    "   * Use the `TfidfTransformer` class in `scikit-learn` to transform X."
   ]
  },
  {
   "cell_type": "code",
   "execution_count": 47,
   "metadata": {},
   "outputs": [
    {
     "data": {
      "text/plain": [
       "<180295x173 sparse matrix of type '<class 'numpy.float64'>'\n",
       "\twith 612284 stored elements in Compressed Sparse Row format>"
      ]
     },
     "execution_count": 47,
     "metadata": {},
     "output_type": "execute_result"
    }
   ],
   "source": [
    "########################################################################\n",
    "######################### \n",
    "\n",
    "from sklearn.feature_extraction.text import TfidfTransformer\n",
    "\n",
    "transformer = TfidfTransformer()\n",
    "tfidf = transformer.fit_transform(X)\n",
    "tfidf\n",
    "\n",
    "#########################\n",
    "########################################################################"
   ]
  },
  {
   "cell_type": "markdown",
   "metadata": {},
   "source": [
    "### Part D: Discover 10 \"topics\" [2.5 points]\n",
    "\n",
    "   * Use the `LatentDirichletAllocation` class in `scikit-learn` to fit 10 topics to the data.\n",
    "   * Use 10 max iterations, set `n_jobs=-1` to use all cores on your machine (if it helps).\n",
    "   * Feel free to understand and play around with other parameters.\n",
    "   * This may take around 3 minutes to run."
   ]
  },
  {
   "cell_type": "code",
   "execution_count": 238,
   "metadata": {},
   "outputs": [
    {
     "name": "stdout",
     "output_type": "stream",
     "text": [
      "CPU times: user 1min 19s, sys: 6.56 s, total: 1min 26s\n",
      "Wall time: 1min 54s\n"
     ]
    },
    {
     "data": {
      "text/plain": [
       "LatentDirichletAllocation(learning_method='online', n_jobs=-1, random_state=0)"
      ]
     },
     "execution_count": 238,
     "metadata": {},
     "output_type": "execute_result"
    }
   ],
   "source": [
    "%%time\n",
    "########################################################################\n",
    "######################### \n",
    "\n",
    "#using learning_method='online' because the data size is very large.\n",
    "from sklearn.decomposition import LatentDirichletAllocation\n",
    "lda = LatentDirichletAllocation(n_components=10, max_iter=10,\n",
    "                                learning_method='online', n_jobs=-1,\n",
    "                                random_state=0)\n",
    "\n",
    "\n",
    "lda.fit(tfidf)\n",
    "\n",
    "\n",
    "#########################\n",
    "########################################################################"
   ]
  },
  {
   "cell_type": "code",
   "execution_count": 151,
   "metadata": {},
   "outputs": [
    {
     "name": "stdout",
     "output_type": "stream",
     "text": [
      "  (0, 171)\t0.18350513998217455\n",
      "  (0, 165)\t0.14680027363978176\n",
      "  (0, 145)\t0.10476925928242804\n",
      "  (0, 144)\t0.10827677744645378\n",
      "  (0, 142)\t0.2170927897097771\n",
      "  (0, 141)\t0.23811087509232562\n",
      "  (0, 140)\t0.37738825702912665\n",
      "  (0, 139)\t0.2496371578643755\n",
      "  (0, 138)\t0.1669259449195421\n",
      "  (0, 126)\t0.4486064270266414\n",
      "  (0, 112)\t0.1651275802984702\n",
      "  (0, 106)\t0.11271839148342057\n",
      "  (0, 95)\t0.20822966545774532\n",
      "  (0, 90)\t0.19935809061526952\n",
      "  (0, 88)\t0.13635261646511806\n",
      "  (0, 86)\t0.08532587181481394\n",
      "  (0, 84)\t0.14385676244868395\n",
      "  (0, 83)\t0.09069886117189749\n",
      "  (0, 80)\t0.07160855204898149\n",
      "  (0, 79)\t0.13623490833395224\n",
      "  (0, 78)\t0.17826996166593922\n",
      "  (0, 76)\t0.052904865610962575\n",
      "  (0, 73)\t0.32296309872902457\n",
      "  (0, 69)\t0.17849294376409255\n",
      "  (0, 68)\t0.10997859690428329\n",
      "  :\t:\n",
      "  (180289, 144)\t0.38742450930089006\n",
      "  (180289, 84)\t0.5147330472488257\n",
      "  (180289, 83)\t0.3245290690429833\n",
      "  (180289, 80)\t0.25622214470728616\n",
      "  (180289, 79)\t0.48746133525293456\n",
      "  (180289, 76)\t0.18929859275774005\n",
      "  (180290, 76)\t0.4334976855690649\n",
      "  (180290, 68)\t0.901154679622907\n",
      "  (180291, 156)\t0.3741979173536584\n",
      "  (180291, 153)\t0.4104643140243807\n",
      "  (180291, 149)\t0.4312831766181245\n",
      "  (180291, 145)\t0.21632218604035217\n",
      "  (180291, 144)\t0.2235643294134661\n",
      "  (180291, 143)\t0.40164411942439526\n",
      "  (180291, 88)\t0.28153387995750734\n",
      "  (180291, 85)\t0.3647793594953265\n",
      "  (180291, 83)\t0.18727035062054684\n",
      "  (180292, 80)\t0.8043006509119026\n",
      "  (180292, 76)\t0.5942225702063914\n",
      "  (180293, 106)\t0.7847342152877189\n",
      "  (180293, 80)\t0.49853160749115755\n",
      "  (180293, 76)\t0.36831840530857335\n",
      "  (180294, 106)\t0.7317117355897734\n",
      "  (180294, 83)\t0.5887718964998407\n",
      "  (180294, 76)\t0.34343207464094316\n"
     ]
    }
   ],
   "source": [
    "print(tfidf)"
   ]
  },
  {
   "cell_type": "markdown",
   "metadata": {},
   "source": [
    "Now each app can be viewed as a distribution over these 10 topics, and each topic is a distribution over all the permissions in the data."
   ]
  },
  {
   "cell_type": "markdown",
   "metadata": {},
   "source": [
    "### Part E: List the top 10 \"words\" in each topic [15 points]\n",
    "\n",
    "Do any of the topics correspond to meaningful app \"purposes\"? List the ones you find meaningful below:\n",
    "\n",
    "   * Topic #i: \"your interpretation\""
   ]
  },
  {
   "cell_type": "code",
   "execution_count": 237,
   "metadata": {},
   "outputs": [
    {
     "name": "stdout",
     "output_type": "stream",
     "text": [
      "Topic 1:\n",
      "Your location : coarse (network-based) location (D)\n",
      "Your location : fine (GPS) location (D)\n",
      "Network communication : full Internet access (D)\n",
      "Network communication : view network state (S)\n",
      "Phone calls : read phone state and identity (D)\n",
      "Storage : modify/delete USB storage contents modify/delete SD card contents (D)\n",
      "Hardware controls : record audio (D)\n",
      "Your location : access extra location provider commands (S)\n",
      "Default : permission to install a location provider (S)\n",
      "Network communication : download files without notification (S) \n",
      "\n",
      "Topic 2:\n",
      "Hardware controls : control vibrator (S)\n",
      "System tools : prevent device from sleeping (D)\n",
      "Network communication : full Internet access (D)\n",
      "Storage : modify/delete USB storage contents modify/delete SD card contents (D)\n",
      "Network communication : view network state (S)\n",
      "System tools : allow Wi-Fi Multicast reception (D)\n",
      "Default : force application to close (S)\n",
      "Phone calls : read phone state and identity (D)\n",
      "Default : modify/delete USB storage contents modify/delete SD card contents (S)\n",
      "System tools : automatically start at boot (S) \n",
      "\n",
      "Topic 3:\n",
      "Storage : modify/delete USB storage contents modify/delete SD card contents (D)\n",
      "Network communication : full Internet access (D)\n",
      "System tools : modify global system settings (D)\n",
      "Default : delete other applications' caches (S)\n",
      "System tools : send package removed broadcast (S)\n",
      "Network communication : download files without notification (S)\n",
      "Network communication : view network state (S)\n",
      "System tools : change your UI settings (D)\n",
      "System tools : delete all application cache data (D)\n",
      "Default : force application to close (S) \n",
      "\n",
      "Topic 4:\n",
      "System tools : automatically start at boot (S)\n",
      "Your location : coarse (network-based) location (D)\n",
      "Your location : fine (GPS) location (D)\n",
      "Services that cost you money : send SMS messages (D)\n",
      "Hardware controls : control vibrator (S)\n",
      "Phone calls : read phone state and identity (D)\n",
      "Your location : mock location sources for testing (D)\n",
      "Network communication : full Internet access (D)\n",
      "Network communication : view network state (S)\n",
      "Your personal information : read Browser's history and bookmarks (D) \n",
      "\n",
      "Topic 5:\n",
      "System tools : set wallpaper (S)\n",
      "Hardware controls : change your audio settings (D)\n",
      "System tools : send sticky broadcast (S)\n",
      "Default : change screen orientation (S)\n",
      "Default : bind to an input method (S)\n",
      "Default : Access download manager. (S)\n",
      "Default : record what you type and actions you take (S)\n",
      "Default : interact with a device admin (S)\n",
      "System tools : set time zone (D)\n",
      "System tools : modify global animation speed (D) \n",
      "\n",
      "Topic 6:\n",
      "Network communication : full Internet access (D)\n",
      "Network communication : view network state (S)\n",
      "Storage : modify/delete USB storage contents modify/delete SD card contents (D)\n",
      "System tools : set wallpaper (S)\n",
      "Default : coarse (network-based) location (S)\n",
      "Services that cost you money : directly call phone numbers (D)\n",
      "System tools : modify global system settings (D)\n",
      "Your personal information : read contact data (D)\n",
      "Default : Access download manager. (S)\n",
      "System tools : automatically start at boot (S) \n",
      "\n",
      "Topic 7:\n",
      "System tools : retrieve running applications (D)\n",
      "Phone calls : read phone state and identity (D)\n",
      "System tools : mount and unmount filesystems (D)\n",
      "Storage : modify/delete USB storage contents modify/delete SD card contents (D)\n",
      "System tools : kill background processes (S)\n",
      "Network communication : view network state (S)\n",
      "Network communication : full Internet access (D)\n",
      "Your personal information : read sensitive log data (D)\n",
      "Default : directly install applications (S)\n",
      "System tools : prevent device from sleeping (D) \n",
      "\n",
      "Topic 8:\n",
      "Phone calls : read phone state and identity (D)\n",
      "Network communication : view Wi-Fi state (S)\n",
      "Network communication : view network state (S)\n",
      "Network communication : full Internet access (D)\n",
      "Storage : modify/delete USB storage contents modify/delete SD card contents (D)\n",
      "Services that cost you money : directly call phone numbers (D)\n",
      "System tools : prevent device from sleeping (D)\n",
      "Hardware controls : control vibrator (S)\n",
      "Your location : coarse (network-based) location (D)\n",
      "Your location : fine (GPS) location (D) \n",
      "\n",
      "Topic 9:\n",
      "Hardware controls : take pictures and videos (D)\n",
      "Storage : modify/delete USB storage contents modify/delete SD card contents (D)\n",
      "System tools : change Wi-Fi state (D)\n",
      "Network communication : view Wi-Fi state (S)\n",
      "Network communication : full Internet access (D)\n",
      "Network communication : view network state (S)\n",
      "Hardware controls : control flashlight (S)\n",
      "System tools : prevent device from sleeping (D)\n",
      "Network communication : create Bluetooth connections (D)\n",
      "Hardware controls : control vibrator (S) \n",
      "\n",
      "Topic 10:\n",
      "Services that cost you money : directly call phone numbers (D)\n",
      "Your personal information : read contact data (D)\n",
      "Phone calls : read phone state and identity (D)\n",
      "Network communication : full Internet access (D)\n",
      "Network communication : view network state (S)\n",
      "Your location : fine (GPS) location (D)\n",
      "Network communication : receive data from Internet (S)\n",
      "System tools : prevent device from sleeping (D)\n",
      "Storage : modify/delete USB storage contents modify/delete SD card contents (D)\n",
      "Your accounts : discover known accounts (S) \n",
      "\n"
     ]
    }
   ],
   "source": [
    "########################################################################\n",
    "######################### \n",
    "#permission_columns contains the words ordered by their column index in X.\n",
    "#app_names contains the application names ordered by their row index in X.\n",
    "\n",
    "top_10 = 10\n",
    "for idx, topic in enumerate(lda.components_):\n",
    "    \n",
    "    topic_x = \"Topic \" + str(idx+1) + \":\" + \"\\n\" + \"\\n\".join([str(permission_columns[i])\n",
    "                         for i in topic.argsort()[:-top_10 - 1:-1]])\n",
    "    print(topic_x,\"\\n\")\n",
    "\n",
    "#########################\n",
    "########################################################################"
   ]
  },
  {
   "cell_type": "markdown",
   "metadata": {},
   "source": [
    "*** I think its very ambiguous to interpret what each topic translates to by only checking the top 10 permissions because most of the topics consists the same permissions. Below are the topics I was able to identify:\n",
    "topic 1: might be navigations apps, but most probably it can be apps that requires or asks for location of users.\n",
    "topic 2: vibrator apps\n",
    "topic 3: system settings apps\n",
    "topic 5: wall papers apps\n",
    "topic 10: messaging apps\n",
    "***"
   ]
  },
  {
   "cell_type": "markdown",
   "metadata": {},
   "source": [
    "### Part F: For each topic, list the top 3 apps with at least 100000 ratings having the highest probability assigned to that topic [15 points]\n",
    "\n",
    "   - This further helps us understand what the topics actually mean.\n",
    "   - However, the data is noisy and this exercise may result in listing a bunch of obscure apps.\n",
    "   - Hence, filtering out all apps with less than 100000 ratings may help."
   ]
  },
  {
   "cell_type": "code",
   "execution_count": 235,
   "metadata": {},
   "outputs": [
    {
     "name": "stdout",
     "output_type": "stream",
     "text": [
      "Topic 1 :\n",
      "Air Control Lite\n",
      "Dictionary.com\n",
      "Paper Toss\n",
      "\n",
      "Topic 2 :\n",
      "Tank Hero\n",
      "Robo Defense FREE\n",
      "Alchemy\n",
      "\n",
      "Topic 3 :\n",
      "SpeechSynthesis Data Installer\n",
      "Ringdroid\n",
      "Google Sky Map\n",
      "\n",
      "Topic 4 :\n",
      "Seesmic (Facebook, Twitter)\n",
      "Zynga Poker\n",
      "Dolphin Browser™ HD\n",
      "\n",
      "Topic 5 :\n",
      "Strip Poker\n",
      "Wallpapers HD\n",
      "Shazam\n",
      "\n",
      "Topic 6 :\n",
      "Yoo Ninja! Free\n",
      "Angry Birds Seasons\n",
      "Adobe Reader\n",
      "\n",
      "Topic 7 :\n",
      "Netflix\n",
      "Ant Smasher Free Game\n",
      "Bunny Shooter\n",
      "\n",
      "Topic 8 :\n",
      "Blast Monkeys\n",
      "Racing Moto\n",
      "My Country\n",
      "\n",
      "Topic 9 :\n",
      "Tiny Flashlight + LED\n",
      "Battery Widget\n",
      "Inotia3: Children of Carnia\n",
      "\n",
      "Topic 10 :\n",
      "WhatsApp Messenger\n",
      "chompSMS\n",
      "Gmail\n",
      "\n"
     ]
    }
   ],
   "source": [
    "########################################################################\n",
    "#########################\n",
    "\n",
    "\n",
    "#prop_of_tops demostrates document-topic (app-topic) weights. 10 different float numbers,\n",
    "#each corresponds to normalized proportion of the apps under relevant topic (1-10).\n",
    "prop_of_tops = lda.transform(tfidf)\n",
    "\n",
    "#defining a boolean array, conditioned to see whether an app has more than 100000 ratings:\n",
    "#I will use this array to skip the apps that have less than 100000 ratings\n",
    "popular_apps = app_ratings > 100000\n",
    "\n",
    "\n",
    "#I used nested for loop to access each topic (outer loop) then to access top three apps (inner loop)\n",
    "for topic in range(10):\n",
    "    #using np.argsort() to sort the indices in descending order based on the proportion\n",
    "    idx = np.argsort(prop_of_tops[:,topic])[::-1]\n",
    "    counter = 1\n",
    "    print('Topic', str(topic+1), ':')    \n",
    "    for app_id in idx:\n",
    "        if popular_apps[app_id]==False:\n",
    "            continue\n",
    "        if counter == 4:\n",
    "            break\n",
    "        app = app_names[app_id]\n",
    "        print(app)\n",
    "        counter += 1\n",
    "    print()\n",
    "\n",
    "\n",
    "#########################\n",
    "########################################################################"
   ]
  },
  {
   "cell_type": "code",
   "execution_count": 164,
   "metadata": {},
   "outputs": [
    {
     "data": {
      "text/plain": [
       "array([122322, 157239,  84832, ..., 162831, 117221, 170207])"
      ]
     },
     "execution_count": 164,
     "metadata": {},
     "output_type": "execute_result"
    }
   ],
   "source": [
    "prop_of_tops = lda.transform(tfidf)\n",
    "np.argsort(prop_of_tops[:,0])[::-1]\n",
    "np.argsort(prop_of_tops[:,0])\n",
    "#sum(topic_prop[:,0]<1)"
   ]
  },
  {
   "cell_type": "markdown",
   "metadata": {},
   "source": [
    "### Part G: Visualize the document-topic proportion matrix in 2-D using t-SNE [15 points]\n",
    "\n",
    "Does our reduced dimensional space contain any structure? Visualize the documents (in the topic-space) using t-SNE.\n",
    "\n",
    "   * Use `TSNE` from `scikit-learn`.\n",
    "   * Set the angle to 0.99 and init to 'PCA'. Pick any learning rate that gives you a visually pleasing result.\n",
    "   * You may `fit` TSNE to a sample of the data (>1000 documents) instead of the full data.\n",
    "   * Remember to call `fit_transform` to obtain your 2-D data.\n",
    "   * Plot the t-SNE dimensions as a scatterplot.\n",
    "   * Color each point based on its most probable topic. Make sure you include a legend (10 colors).\n",
    "   \n",
    "Clusters in the t-SNE plot indicate groups of apps that have similar topics."
   ]
  },
  {
   "cell_type": "code",
   "execution_count": 236,
   "metadata": {},
   "outputs": [
    {
     "name": "stderr",
     "output_type": "stream",
     "text": [
      "/Users/kaankazancoglu/opt/anaconda3/lib/python3.9/site-packages/sklearn/manifold/_t_sne.py:982: FutureWarning: The PCA initialization in TSNE will change to have the standard deviation of PC1 equal to 1e-4 in 1.2. This will ensure better convergence.\n",
      "  warnings.warn(\n"
     ]
    },
    {
     "data": {
      "image/png": "[encoded data removed]",
      "text/plain": [
       "<Figure size 1008x576 with 1 Axes>"
      ]
     },
     "metadata": {
      "needs_background": "light"
     },
     "output_type": "display_data"
    },
    {
     "name": "stdout",
     "output_type": "stream",
     "text": [
      "CPU times: user 1min 9s, sys: 13.2 s, total: 1min 22s\n",
      "Wall time: 16.1 s\n"
     ]
    }
   ],
   "source": [
    "%%time\n",
    "########################################################################\n",
    "######################### \n",
    "from sklearn.manifold import TSNE\n",
    "tsne = TSNE(angle=0.99, init='pca',\n",
    "            learning_rate=4000, perplexity=300,\n",
    "            random_state=0)\n",
    "\n",
    "tsne_lda = tsne.fit_transform(prop_of_tops[:2000,:])\n",
    "plt.figure(figsize=(14,8))\n",
    "\n",
    "top_2000_topic = np.argmax(prop_of_tops, axis=1)[:2000]\n",
    "for topic in range(10):\n",
    "    plt.plot(tsne_lda[top_2000_topic==topic+1,0], tsne_lda[top_2000_topic==topic+1,1], 'o',\n",
    "            label=\"Topic\" + str(topic+1))\n",
    "    \n",
    "plt.legend(loc='lower left')\n",
    "plt.grid()\n",
    "plt.show()\n",
    "\n",
    "\n",
    "#plt.scatter(drug_data_normalized_tsne2d[:, 0], drug_data_normalized_tsne2d[:, 1])\n",
    "#plt.axis('equal')\n",
    "\n",
    "#########################\n",
    "########################################################################"
   ]
  },
  {
   "cell_type": "code",
   "execution_count": null,
   "metadata": {},
   "outputs": [],
   "source": []
  }
 ],
 "metadata": {
  "kernelspec": {
   "display_name": "Python 3 (ipykernel)",
   "language": "python",
   "name": "python3"
  },
  "language_info": {
   "codemirror_mode": {
    "name": "ipython",
    "version": 3
   },
   "file_extension": ".py",
   "mimetype": "text/x-python",
   "name": "python",
   "nbconvert_exporter": "python",
   "pygments_lexer": "ipython3",
   "version": "3.9.12"
  }
 },
 "nbformat": 4,
 "nbformat_minor": 2
}
