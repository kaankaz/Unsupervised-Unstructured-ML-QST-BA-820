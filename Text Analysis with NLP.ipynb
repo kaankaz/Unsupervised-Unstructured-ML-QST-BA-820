{
 "cells": [
  {
   "cell_type": "markdown",
   "metadata": {
    "id": "GX8lefEIIUhh"
   },
   "source": [
    "# IS 820 Homework 1\n",
    "\n",
    "Group Member Names: Kaan Kazancoglu\n",
    "\n",
    "Reminder: you should not be sharing code across groups"
   ]
  },
  {
   "cell_type": "markdown",
   "metadata": {
    "id": "DIo4YlN5IUhk"
   },
   "source": [
    "**Warning: make sure your compute environment is set up first.** This homework assignment assumes that you have already installed Anaconda Python 3 and spaCy."
   ]
  },
  {
   "cell_type": "markdown",
   "metadata": {
    "id": "BMJ1uXgqIUhl"
   },
   "source": [
    "### Instructions\n",
    "1. Fill in group name, and member names above\n",
    "2. Fill in the code/text blocks to answer each question.\n",
    "3. Do *not* change any of the existing code provided.\n",
    "4. Run the entire notebook *before* submitting it on blackboard to make sure that the code actually runs without errors. (**Important**: Any code cells that you have entered code for but did not actually execute will be disregarded, so please be sure to actually run your code first and make sure it runs without errors! We may re-run a subset of your code for grading purposes.)"
   ]
  },
  {
   "cell_type": "markdown",
   "metadata": {
    "id": "8GP6xzMQIUhl"
   },
   "source": [
    "### [Problem 1] Basic Text Analysis [45 pts]\n",
    "\n",
    "This problem involves a mix of Python review (loops, conditionals, counters/dictionaries, sorting) and learning to work with a sizable collection of text data.\n",
    "\n",
    "You will be looking at a phenomenon of \"natural languages\" (i.e., human languages, such as English) called *Zipf's law*, which relates how frequently a word occurs in a language to its \"rank\" (the word with rank 1 is the most frequently occurring word, the word with rank 2 is the second most frequently occurring word, etc). Roughly speaking, the word with rank 1 appears twice as likely as the word with rank 2, and the three times as likely as the word with rank 3, and so forth. (Some details on Zipf's law can be found on [Wikipedia](https://en.wikipedia.org/wiki/Zipf%27s_law).) In this problem, you are going to check whether Zipf's law holds for a real dataset of text documents.\n",
    "\n",
    "The dataset we look at is a collection of the 100 most popular books downloaded from the [Gutenburg Project](https://www.gutenberg.org/browse/scores/top). These 100 books form the corpus that we consider for this problem. Each file contains the text of a book. We will read in all 100 books.\n",
    "\n",
    "Note: Please *do not* change the folder name or the path, and make sure you use a relative path (e.g. './HW1_Dataset/*filename*) when reading the files. When grading your homework, we will put your Jupyter notebook file and the dataset in the same folder, and run your code. **You will not receive points for this problem if your code fails to load the data.**\n",
    "\n",
    "Hint: To list all files that match a certain pattern, you can use the `glob` package. Here's an example usage:\n",
    "\n",
    "```python\n",
    "import glob\n",
    "print(glob.glob('./HW1_Dataset/*.txt'))\n",
    "```\n",
    "\n",
    "**(a) Warm-up/basic Python review [15 pts across subparts].** This part serves as a warm-up, getting you familiar with the kind of code we will be writing in this class. Note that throughout part (a), your code should **not** be using spaCy.\n",
    "\n",
    "**Subpart i [5 pts].** Write a loop that iterates through all 100 books; for each book, print out its corresponding file name and also how long the book is in terms of string length (meaning that if we load in the book as a string, we compute the length of the string using the built-in Python function `len`; this is just counting the number of characters).\n",
    "\n",
    "**Please do not actually print out the contents of each book since many of the books are extremely long, and by printing out all the books' contents, you'll end up creating a Jupyter notebook that has a massive file size.**\n",
    "\n",
    "Hint: When debugging your code, you may want to first make sure your code runs on a few of the books rather than all 100 (for example, you can start by only having 3 of the text files in `HW1_Dataset`). Once you're confident that your solution is correct on a few text files, then run on all of them! This is a standard approach to debugging code that is meant to handle large datasets.\n",
    "\n",
    "Your output should look like (although there should be 100 books rather than 3 as shown below; also, the ordering of the books might be different on your machine):\n",
    "\n",
    "```\n",
    "./HW1_Dataset/War and Peace by graf Leo Tolstoy (251).txt 3227580\n",
    "./HW1_Dataset/Democracy in America — Volume 1 by Alexis de Tocqueville (147).txt 1148435\n",
    "./HW1_Dataset/Frankenstein; Or, The Modern Prometheus by Mary Wollstonecraft Shelley (501).txt 441034\n",
    "```"
   ]
  },
  {
   "cell_type": "code",
   "execution_count": 5,
   "metadata": {
    "id": "g3b2JaOBIUhn"
   },
   "outputs": [
    {
     "name": "stdout",
     "output_type": "stream",
     "text": [
      "./HW1_Dataset/War and Peace by graf Leo Tolstoy (251).txt : 3227580\n",
      "./HW1_Dataset/Democracy in America — Volume 1 by Alexis de Tocqueville (147).txt : 1148435\n",
      "./HW1_Dataset/Frankenstein; Or, The Modern Prometheus by Mary Wollstonecraft Shelley (501).txt : 441034\n",
      "./HW1_Dataset/The King James Version of the Bible (132).txt : 4351846\n",
      "./HW1_Dataset/Et dukkehjem. English by Henrik Ibsen (557).txt : 161241\n",
      "./HW1_Dataset/Outpost in the Wilderness_ Fort Wayne, 1706-1828 by Charles Poinsatte (161).txt : 363234\n",
      "./HW1_Dataset/The Romance of Lust_ A Classic Victorian erotic novel by Anonymous (294).txt : 1051148\n",
      "./HW1_Dataset/The Odyssey by Homer (124).txt : 697404\n",
      "./HW1_Dataset/A History of Spanish Literature by James Fitzmaurice-Kelly (109).txt : 765918\n",
      "./HW1_Dataset/The Philosophy of Spiritual Activity by Rudolf Steiner (144).txt : 545031\n",
      "./HW1_Dataset/My Fifteen Lost Years by Florence Elizabeth Maybrick (499).txt : 383694\n",
      "./HW1_Dataset/Prestuplenie i nakazanie. English by Fyodor Dostoyevsky (160).txt : 1154508\n",
      "./HW1_Dataset/The History of the Peloponnesian War by Thucydides (122).txt : 1200021\n",
      "./HW1_Dataset/Gulliver's Travels into Several Remote Nations of the World by Jonathan Swift (136).txt : 600105\n",
      "./HW1_Dataset/The Peddler Spy by W. J. Hamilton (356).txt : 197390\n",
      "./HW1_Dataset/Dubliners by James Joyce (219).txt : 389199\n",
      "./HW1_Dataset/The Hound of the Baskervilles by Arthur Conan Doyle (223).txt : 339188\n",
      "./HW1_Dataset/The Boy Fortune Hunters in China by L. Frank  Baum (215).txt : 324452\n",
      "./HW1_Dataset/Leviathan by Thomas Hobbes (417).txt : 1231784\n",
      "./HW1_Dataset/The Awakening, and Selected Short Stories by Kate Chopin (192).txt : 378936\n",
      "./HW1_Dataset/The Interesting Narrative of the Life of Olaudah Equiano, Or Gustavus Vassa, The African by Equiano (114).txt : 471165\n",
      "./HW1_Dataset/Through the Looking-Glass by Lewis Carroll (134).txt : 181667\n",
      "./HW1_Dataset/Il Principe. English by Niccolò Machiavelli (428) (Unicode Encoding Conflict).txt : 300788\n",
      "./HW1_Dataset/On Liberty by John Stuart Mill (116).txt : 325922\n",
      "./HW1_Dataset/The Law of Storms by John Wilson Ross (110).txt : 65264\n",
      "./HW1_Dataset/The Strange Case of Dr. Jekyll and Mr. Hyde by Robert Louis Stevenson (170).txt : 159542\n",
      "./HW1_Dataset/Liberalism by L. T.  Hobhouse (119).txt : 305345\n",
      "./HW1_Dataset/Semmering 1912 by Peter Altenberg (221).txt : 264946\n",
      "./HW1_Dataset/Les Misérables by Victor Hugo (165) (Unicode Encoding Conflict).txt : 3254333\n",
      "./HW1_Dataset/The Count of Monte Cristo, Illustrated by Alexandre Dumas (160).txt : 2643849\n",
      "./HW1_Dataset/Alice in Wonderland by Lewis Carroll and Alice Gerstenberg (126).txt : 104079\n",
      "./HW1_Dataset/Common Sense by Thomas Paine (297).txt : 145353\n",
      "./HW1_Dataset/Narrative of the Captivity and Restoration of Mrs. Mary Rowlandson by Mary White Rowlandson (222).txt : 123784\n",
      "./HW1_Dataset/The Divine Comedy by Dante, Illustrated by Dante Alighieri (119).txt : 2161\n",
      "./HW1_Dataset/The Importance of Being Earnest_ A Trivial Comedy for Serious People by Oscar Wilde (454).txt : 138887\n",
      "./HW1_Dataset/Walden, and On The Duty Of Civil Disobedience by Henry David Thoreau (180).txt : 656207\n",
      "./HW1_Dataset/The Yellow Wallpaper by Charlotte Perkins Gilman (462).txt : 50841\n",
      "./HW1_Dataset/Jane Eyre_ An Autobiography by Charlotte Brontë (290) (Unicode Encoding Conflict).txt : 1049267\n",
      "./HW1_Dataset/The Kama Sutra of Vatsyayana by Vatsyayana (172).txt : 351664\n",
      "./HW1_Dataset/Sense and Sensibility by Jane Austen (177).txt : 693095\n",
      "./HW1_Dataset/Adventures of Huckleberry Finn by Mark Twain (401).txt : 593962\n",
      "./HW1_Dataset/Heart of Darkness by Joseph Conrad (213).txt : 229835\n",
      "./HW1_Dataset/The Republic by Plato (246).txt : 1214387\n",
      "./HW1_Dataset/The Complete Works of William Shakespeare by William Shakespeare (132).txt : 5465100\n",
      "./HW1_Dataset/The Picture of Dorian Gray by Oscar Wilde (282).txt : 453169\n",
      "./HW1_Dataset/The Works of Edgar Allan Poe — Volume 2 by Edgar Allan Poe (137).txt : 569966\n",
      "./HW1_Dataset/Ulysses by James Joyce (282).txt : 1534140\n",
      "./HW1_Dataset/The Federalist Papers by Alexander Hamilton and John Jay and James Madison (116).txt : 1167141\n",
      "./HW1_Dataset/Leaves of Grass by Walt Whitman (164).txt : 757361\n",
      "./HW1_Dataset/Narrative of the Life of Frederick Douglass, an American Slave by Frederick Douglass (243).txt : 244263\n",
      "./HW1_Dataset/A Study in Scarlet by Arthur Conan Doyle (163).txt : 262340\n",
      "./HW1_Dataset/Beowulf An Anglo-Saxon Epic Poem (403).txt : 292953\n",
      "./HW1_Dataset/The Wendigo by Algernon Blackwood (174).txt : 127464\n",
      "./HW1_Dataset/The Scarlet Letter by Nathaniel Hawthorne (211).txt : 506975\n",
      "./HW1_Dataset/Persuasion by Jane Austen (2234).txt : 486251\n",
      "./HW1_Dataset/The Time Machine by H. G.  Wells (137).txt : 198281\n",
      "./HW1_Dataset/The Guardsman by Homer Greene (175).txt : 412900\n",
      "./HW1_Dataset/Carmilla by Joseph Sheridan Le Fanu (135).txt : 176408\n",
      "./HW1_Dataset/Uncle Tom's Cabin by Harriet Beecher Stowe (108).txt : 1025501\n",
      "./HW1_Dataset/A Tale of Two Cities by Charles Dickens (425).txt : 776702\n",
      "./HW1_Dataset/Moby Dick; Or, The Whale by Herman Melville (413).txt : 1238569\n",
      "./HW1_Dataset/Songs of Innocence, and Songs of Experience by William Blake (166).txt : 51724\n",
      "./HW1_Dataset/Dracula by Bram Stoker (461).txt : 867141\n",
      "./HW1_Dataset/Emma by Jane Austen (166).txt : 902390\n",
      "./HW1_Dataset/Wuthering Heights by Emily Brontë (179) (Unicode Encoding Conflict).txt : 669150\n",
      "./HW1_Dataset/Autobiography of Benjamin Franklin by Benjamin Franklin (247).txt : 458600\n",
      "./HW1_Dataset/The Strange Case of Dr. Jekyll and Mr. Hyde by Robert Louis Stevenson (158).txt : 158048\n",
      "./HW1_Dataset/Anne of Green Gables by L. M.  Montgomery (114).txt : 580635\n",
      "./HW1_Dataset/The Souls of Black Folk by W. E. B.  Du Bois (172).txt : 421336\n",
      "./HW1_Dataset/The Confessions of St. Augustine by Bishop of Hippo Saint Augustine (157).txt : 622405\n",
      "./HW1_Dataset/Candide by Voltaire (180).txt : 224924\n",
      "./HW1_Dataset/The Legend of Sleepy Hollow by Washington Irving (399).txt : 89237\n",
      "./HW1_Dataset/Alice's Adventures in Wonderland by Lewis Carroll (564).txt : 163817\n",
      "./HW1_Dataset/Peter Pan by J. M.  Barrie (274).txt : 278194\n",
      "./HW1_Dataset/The Wonderful Wizard of Oz by L. Frank  Baum (150).txt : 227654\n",
      "./HW1_Dataset/The Innocents Abroad by Mark Twain (108).txt : 1126278\n",
      "./HW1_Dataset/The Turn of the Screw by Henry James (185).txt : 248089\n",
      "./HW1_Dataset/The Adventures of Tom Sawyer by Mark Twain (371).txt : 412712\n",
      "./HW1_Dataset/The Tragedy of Romeo and Juliet by William Shakespeare (131).txt : 174128\n",
      "./HW1_Dataset/A Modest Proposal by Jonathan Swift (233).txt : 38966\n",
      "./HW1_Dataset/A Christmas Carol in Prose; Being a Ghost Story of Christmas by Charles Dickens (265).txt : 177758\n",
      "./HW1_Dataset/Essays of Michel de Montaigne — Complete by Michel de Montaigne (205).txt : 3033575\n",
      "./HW1_Dataset/The Adventures of Sherlock Holmes by Arthur Conan Doyle (447).txt : 581864\n",
      "./HW1_Dataset/Robert Greene by Robert Greene (126).txt : 760655\n",
      "./HW1_Dataset/Essays by Ralph Waldo Emerson by Ralph Waldo Emerson (239).txt : 557197\n",
      "./HW1_Dataset/The Boy Fortune Hunters in the South Seas by L. Frank  Baum (150).txt : 266166\n",
      "./HW1_Dataset/Pride and Prejudice by Jane Austen (1003).txt : 704192\n",
      "./HW1_Dataset/My Secret Life, Volumes I. to III. by Anonymous (157).txt : 1378627\n",
      "./HW1_Dataset/The Mysterious Affair at Styles by Agatha Christie (115).txt : 340770\n",
      "./HW1_Dataset/Treasure Island by Robert Louis Stevenson (236).txt : 383675\n",
      "./HW1_Dataset/Hedda Gabler by Henrik Ibsen (123).txt : 193875\n",
      "./HW1_Dataset/Metamorphosis by Franz Kafka (483).txt : 139056\n",
      "./HW1_Dataset/Great Expectations by Charles Dickens (293).txt : 1013450\n",
      "./HW1_Dataset/The Life and Adventures of Robinson Crusoe by Daniel Defoe (126).txt : 642909\n",
      "./HW1_Dataset/The Iliad by Homer (256).txt : 1175588\n",
      "./HW1_Dataset/The Tragical History of Doctor Faustus by Christopher Marlowe (144).txt : 143736\n",
      "./HW1_Dataset/Grimms' Fairy Tales by Jacob Grimm and Wilhelm Grimm (429).txt : 540241\n",
      "./HW1_Dataset/Beyond Good and Evil by Friedrich Wilhelm Nietzsche (120).txt : 402273\n",
      "./HW1_Dataset/Siddhartha by Hermann Hesse (216).txt : 236855\n",
      "./HW1_Dataset/The Faery Queen and Her Knights by Alfred John Church (177).txt : 447320\n"
     ]
    }
   ],
   "source": [
    "########################################################################\n",
    "######################### \n",
    "\n",
    "#Cleaner version: print(book.split('/')[-1].split('.')[0],':', len(text_file))\n",
    "\n",
    "import re\n",
    "import glob\n",
    "books = glob.glob(\"./HW1_Dataset/*.txt\")\n",
    "for book in books:\n",
    "    text_file = open(book,\"r\").read()\n",
    "    print(book,':', len(text_file))\n",
    "\n",
    "#########################\n",
    "########################################################################"
   ]
  },
  {
   "cell_type": "markdown",
   "metadata": {
    "id": "efsp_yqzIUho"
   },
   "source": [
    "**Subpart ii [5 pts].** Copy and paste your code from **subpart i** into the code cell below. Then in the code cell below, modify the code so that it prints out the top 15 longest books (in terms of raw string length, which is what you had already computed). In particular, please write your code so that the printout is of the following format:\n",
    "\n",
    "```\n",
    "1. <number of characters in longest text file> <filename of longest text file>\n",
    "2. <number of characters in 2nd longest text file> <filename of 2nd longest text file>\n",
    "...\n",
    "15. <number of characters in 15th longest text file> <filename of 15th longest text file>\n",
    "```\n",
    "\n",
    "Note: only print out information for the top 15 books in the format above; please do not repeat printing what we asked you to print in **subpart i**."
   ]
  },
  {
   "cell_type": "code",
   "execution_count": 6,
   "metadata": {
    "id": "UgLpkB5_IUhp"
   },
   "outputs": [
    {
     "name": "stdout",
     "output_type": "stream",
     "text": [
      "1. 5465100 : ./HW1_Dataset/The Complete Works of William Shakespeare by William Shakespeare (132).txt\n",
      "2. 4351846 : ./HW1_Dataset/The King James Version of the Bible (132).txt\n",
      "3. 3254333 : ./HW1_Dataset/Les Misérables by Victor Hugo (165) (Unicode Encoding Conflict).txt\n",
      "4. 3227580 : ./HW1_Dataset/War and Peace by graf Leo Tolstoy (251).txt\n",
      "5. 3033575 : ./HW1_Dataset/Essays of Michel de Montaigne — Complete by Michel de Montaigne (205).txt\n",
      "6. 2643849 : ./HW1_Dataset/The Count of Monte Cristo, Illustrated by Alexandre Dumas (160).txt\n",
      "7. 1534140 : ./HW1_Dataset/Ulysses by James Joyce (282).txt\n",
      "8. 1378627 : ./HW1_Dataset/My Secret Life, Volumes I. to III. by Anonymous (157).txt\n",
      "9. 1238569 : ./HW1_Dataset/Moby Dick; Or, The Whale by Herman Melville (413).txt\n",
      "10. 1231784 : ./HW1_Dataset/Leviathan by Thomas Hobbes (417).txt\n",
      "11. 1214387 : ./HW1_Dataset/The Republic by Plato (246).txt\n",
      "12. 1200021 : ./HW1_Dataset/The History of the Peloponnesian War by Thucydides (122).txt\n",
      "13. 1175588 : ./HW1_Dataset/The Iliad by Homer (256).txt\n",
      "14. 1167141 : ./HW1_Dataset/The Federalist Papers by Alexander Hamilton and John Jay and James Madison (116).txt\n",
      "15. 1154508 : ./HW1_Dataset/Prestuplenie i nakazanie. English by Fyodor Dostoyevsky (160).txt\n"
     ]
    }
   ],
   "source": [
    "########################################################################\n",
    "######################### \n",
    "\n",
    "book_dictionary = {}\n",
    "\n",
    "\n",
    "for book in books:\n",
    "    text_file = open(book,\"r\").read()\n",
    "    book_dictionary[book] = len(text_file)\n",
    "    \n",
    "count = 1    \n",
    "for k, v in sorted(book_dictionary.items(), key=lambda item: item[1], reverse=True):\n",
    "    print(str(count)+'.'.replace(\" \", \"\") ,v,':', k)\n",
    "    count += 1\n",
    "    if count > 15:\n",
    "        break\n",
    "\n",
    "#########################\n",
    "########################################################################"
   ]
  },
  {
   "cell_type": "markdown",
   "metadata": {
    "id": "2nFDZhmjIUhp"
   },
   "source": [
    "**Subpart iii [5 pts].** You should find that some of the books are quite long. Processing very long books will be problematic with spaCy, so we will want to chop up long books into pieces. Note that later on in the course, we shall see that chopping up large amounts of data into small pieces or \"batches\" is in fact quite common in machine learning since for massive datasets, we often cannot store them in their entirety on a CPU or GPU for processing all at once.\n",
    "\n",
    "As a toy example, suppose that a book's text is `'cat dog shark spam eggs'` and we want to split it up into batches where each batch has at most 3 words. Then we could split up the book's text into two batches/pieces: `'cat dog shark'` and `'spam eggs'`.\n",
    "\n",
    "We have provided code for you to do this below."
   ]
  },
  {
   "cell_type": "code",
   "execution_count": 362,
   "metadata": {
    "id": "yZV2gyhxIUhp",
    "outputId": "0d05f142-d05b-4cba-efa6-32f794b740c2"
   },
   "outputs": [
    {
     "name": "stdout",
     "output_type": "stream",
     "text": [
      "['cat dog shark', 'spam eggs']\n"
     ]
    }
   ],
   "source": [
    "import numpy as np\n",
    "\n",
    "def split_into_batches(book_text, max_num_words_per_batch):\n",
    "    words_split_on_spaces = book_text.split(' ')\n",
    "    num_book_pieces = int(np.ceil(len(words_split_on_spaces) / max_num_words_per_batch))\n",
    "    batches = []\n",
    "    for piece_idx in range(num_book_pieces):\n",
    "        start_idx = piece_idx * max_num_words_per_batch\n",
    "        end_idx = (piece_idx + 1) * max_num_words_per_batch\n",
    "        if end_idx > len(words_split_on_spaces):\n",
    "            end_idx = len(words_split_on_spaces)\n",
    "        book_piece = ' '.join(words_split_on_spaces[start_idx:end_idx])\n",
    "        batches.append(book_piece)\n",
    "    return batches\n",
    "\n",
    "print(split_into_batches('cat dog shark spam eggs', 3))"
   ]
  },
  {
   "cell_type": "markdown",
   "metadata": {
    "id": "2Wjar87AIUhq"
   },
   "source": [
    "Now write a loop that goes through all 100 books again. However, for each book, split it up into batches so that each batch has at most 10000 words. In this case, how many batches are there total across all 100 books? Please write code that computes this number of batches. Your code should print out the following (with the correct total number of batches):\n",
    "\n",
    "```\n",
    "Total number of batches: <total number of batches across all 100 books>\n",
    "```"
   ]
  },
  {
   "cell_type": "code",
   "execution_count": 7,
   "metadata": {
    "id": "K6k24KIUIUhq"
   },
   "outputs": [
    {
     "name": "stdout",
     "output_type": "stream",
     "text": [
      "Total number of batches: 1246\n"
     ]
    }
   ],
   "source": [
    "########################################################################\n",
    "######################### \n",
    "\n",
    "import numpy as np\n",
    "\n",
    "total = 0\n",
    "\n",
    "def split_into_batches(book_text, max_num_words_per_batch):\n",
    "    \n",
    "    words_split_on_spaces = open(book_text,\"r\").read().split(' ')\n",
    "    num_book_pieces = int(np.ceil(len(words_split_on_spaces) / max_num_words_per_batch))\n",
    "    batches = []\n",
    "    for piece_idx in range(num_book_pieces):\n",
    "        start_idx = piece_idx * max_num_words_per_batch\n",
    "        end_idx = (piece_idx + 1) * max_num_words_per_batch\n",
    "        if end_idx > len(words_split_on_spaces):\n",
    "            end_idx = len(words_split_on_spaces)\n",
    "        book_piece = ' '.join(words_split_on_spaces[start_idx:end_idx])\n",
    "        batches.append(book_piece)\n",
    "    return len(batches)\n",
    "\n",
    "for i in books:\n",
    "    \n",
    "    total += split_into_batches(i,10000)\n",
    "    \n",
    "    \n",
    "\n",
    "print('Total number of batches:',total)\n",
    "\n",
    "\n",
    "#########################\n",
    "########################################################################"
   ]
  },
  {
   "cell_type": "markdown",
   "metadata": {
    "id": "BFuaYyVYIUhr"
   },
   "source": [
    "**(b) [10 pts]** Now we will finally use spaCy. Note that for this problem, you don't actually need `spaCy`'s named entity recognition or grammatical parsing. Turning these elements off when you instantiate the `nlp` object can substantially speed up your code. To make sure these are off when instantiating the `nlp` object, call: \n",
    "\n",
    "```python\n",
    "nlp = spacy.load('en_core_web_sm', disable=['ner', 'parser'])\n",
    "```\n",
    "\n",
    "**Throughout this problem, do not remove stopwords.**\n",
    "\n",
    "Build a term frequency (raw counts) table that is for all 100 books. Specifically, building on your solution to part (a)-subpart iii, read in a single book at a time and for each book, do the following:\n",
    "\n",
    "  1. Split it up into batches where each batch has at most 10000 words.\n",
    "  2. For each batch:\n",
    "    1. Process the batch by separating and lemmatizing the words\n",
    "    2. Count the number of times each lemma appears and add these to the frequency table. For simplicity, **do not convert lemmas to lowercase**. (Note that we use raw counts as the \"frequency\"--do not do any division.) Also, as we explain below, we will only count lemmas that are alphabetic.\n",
    "\n",
    "Note that just as we had said in part (a): do **not** print out the complete contents of every book since doing so will result in a Jupyter notebook file that is massive.\n",
    "\n",
    "After looping through all 100 books, you should have the term frequency table for the entire corpus (importantly, the frequency table should not just be for a single book; it should be for all 100 books). Sort the table and print the top 50 most frequent words, along with their frequencies and ranks. Don't worry about ties (for example, if multiple things have the same frequency, it's fine if your solution breaks ties arbitrarily in the sorting).\n",
    "\n",
    "Note: When counting the lemmas, only include lemmas that consist of alphabetic letters (a-z and A-Z). You can do this with what's called a *regular expression*. For example, to check whether the words \"will.i.am\" or \"Tesla\" are alphabetic, you would do the following:\n",
    "\n",
    "```python\n",
    "import re  # regular expression package\n",
    "if re.match('[a-zA-Z]+$', 'will.i.am'):\n",
    "    print('will.i.am consists only of alphabetic letters!')\n",
    "if re.match('[a-zA-Z]+$', 'Tesla'):\n",
    "    print('tesla consists only of alphabetic letters!')\n",
    "```"
   ]
  },
  {
   "cell_type": "code",
   "execution_count": 8,
   "metadata": {
    "id": "zigJ5re8IUhr"
   },
   "outputs": [],
   "source": [
    "########################################################################\n",
    "######################### \n",
    "\n",
    "import spacy\n",
    "from collections import Counter\n",
    "\n",
    "nlp = spacy.load('en_core_web_sm', disable=['ner', 'parser'])\n",
    "nlp.max_length = 5500000\n",
    "\n",
    "def split_into_batches(book_text, max_num_words_per_batch):\n",
    "    \n",
    "    words_split_on_spaces = open(book_text,\"r\").read().split(' ')\n",
    "    num_book_pieces = int(np.ceil(len(words_split_on_spaces) / max_num_words_per_batch))\n",
    "    batches = []\n",
    "    for piece_idx in range(num_book_pieces):\n",
    "        start_idx = piece_idx * max_num_words_per_batch\n",
    "        end_idx = (piece_idx + 1) * max_num_words_per_batch\n",
    "        if end_idx > len(words_split_on_spaces):\n",
    "            end_idx = len(words_split_on_spaces)\n",
    "        book_piece = ' '.join(words_split_on_spaces[start_idx:end_idx])\n",
    "        batches.append(book_piece)\n",
    "    return batches\n",
    "\n",
    "\n",
    "counter = Counter()\n",
    "for book in books:\n",
    "    batches = split_into_batches(book,10000)\n",
    "    for batch in batches:\n",
    "        doc = nlp(batch)\n",
    "        lemmas = [token.lemma_ for token in doc]\n",
    "        a_lemmas = [lemma for lemma in lemmas\n",
    "                    if re.match('[a-zA-Z]+$', lemma) or lemma == '-PRON-']\n",
    "        \n",
    "        counter.update(Counter(a_lemmas)) \n",
    "\n",
    "#########################\n",
    "########################################################################       "
   ]
  },
  {
   "cell_type": "code",
   "execution_count": 9,
   "metadata": {},
   "outputs": [
    {
     "data": {
      "text/plain": [
       "[('the', 702465), ('be', 436114), ('and', 435424), ('of', 386347)]"
      ]
     },
     "execution_count": 9,
     "metadata": {},
     "output_type": "execute_result"
    }
   ],
   "source": [
    "counter.most_common(4)"
   ]
  },
  {
   "cell_type": "code",
   "execution_count": 10,
   "metadata": {},
   "outputs": [
    {
     "name": "stdout",
     "output_type": "stream",
     "text": [
      "1) the : 702465\n",
      "2) be : 436114\n",
      "3) and : 435424\n",
      "4) of : 386347\n",
      "5) to : 324409\n",
      "6) I : 255129\n",
      "7) a : 233423\n",
      "8) in : 204252\n",
      "9) he : 193622\n",
      "10) that : 159010\n",
      "11) have : 158132\n",
      "12) it : 135431\n",
      "13) not : 111854\n",
      "14) his : 108536\n",
      "15) you : 102595\n",
      "16) with : 101227\n",
      "17) they : 96821\n",
      "18) for : 95320\n",
      "19) as : 90702\n",
      "20) she : 78524\n",
      "21) but : 75599\n",
      "22) my : 73983\n",
      "23) do : 68754\n",
      "24) at : 64947\n",
      "25) on : 62833\n",
      "26) by : 61274\n",
      "27) this : 61240\n",
      "28) we : 60300\n",
      "29) which : 58868\n",
      "30) all : 58636\n",
      "31) say : 58348\n",
      "32) from : 50095\n",
      "33) so : 47999\n",
      "34) or : 47810\n",
      "35) her : 42838\n",
      "36) one : 41123\n",
      "37) will : 40920\n",
      "38) man : 39585\n",
      "39) their : 38418\n",
      "40) what : 37851\n",
      "41) no : 37808\n",
      "42) there : 37209\n",
      "43) if : 34898\n",
      "44) go : 33897\n",
      "45) when : 33587\n",
      "46) an : 32517\n",
      "47) come : 32358\n",
      "48) see : 32024\n",
      "49) would : 31289\n",
      "50) who : 30934\n"
     ]
    }
   ],
   "source": [
    "cnt = 0 \n",
    "for word, frequency in counter.most_common(50):  # get the 10 most frequent words\n",
    "    print(str(cnt+1)+')'.replace(\" \", \"\"), word,':', frequency)\n",
    "    cnt += 1"
   ]
  },
  {
   "cell_type": "code",
   "execution_count": 11,
   "metadata": {},
   "outputs": [
    {
     "data": {
      "text/html": [
       "<div>\n",
       "<style scoped>\n",
       "    .dataframe tbody tr th:only-of-type {\n",
       "        vertical-align: middle;\n",
       "    }\n",
       "\n",
       "    .dataframe tbody tr th {\n",
       "        vertical-align: top;\n",
       "    }\n",
       "\n",
       "    .dataframe thead th {\n",
       "        text-align: right;\n",
       "    }\n",
       "</style>\n",
       "<table border=\"1\" class=\"dataframe\">\n",
       "  <thead>\n",
       "    <tr style=\"text-align: right;\">\n",
       "      <th></th>\n",
       "      <th>word</th>\n",
       "      <th>freq</th>\n",
       "    </tr>\n",
       "    <tr>\n",
       "      <th>rank</th>\n",
       "      <th></th>\n",
       "      <th></th>\n",
       "    </tr>\n",
       "  </thead>\n",
       "  <tbody>\n",
       "    <tr>\n",
       "      <th>1.0</th>\n",
       "      <td>the</td>\n",
       "      <td>702465</td>\n",
       "    </tr>\n",
       "    <tr>\n",
       "      <th>2.0</th>\n",
       "      <td>be</td>\n",
       "      <td>436114</td>\n",
       "    </tr>\n",
       "    <tr>\n",
       "      <th>3.0</th>\n",
       "      <td>and</td>\n",
       "      <td>435424</td>\n",
       "    </tr>\n",
       "    <tr>\n",
       "      <th>4.0</th>\n",
       "      <td>of</td>\n",
       "      <td>386347</td>\n",
       "    </tr>\n",
       "    <tr>\n",
       "      <th>5.0</th>\n",
       "      <td>to</td>\n",
       "      <td>324409</td>\n",
       "    </tr>\n",
       "    <tr>\n",
       "      <th>...</th>\n",
       "      <td>...</td>\n",
       "      <td>...</td>\n",
       "    </tr>\n",
       "    <tr>\n",
       "      <th>110501.0</th>\n",
       "      <td>Unthrifty</td>\n",
       "      <td>1</td>\n",
       "    </tr>\n",
       "    <tr>\n",
       "      <th>110502.0</th>\n",
       "      <td>leese</td>\n",
       "      <td>1</td>\n",
       "    </tr>\n",
       "    <tr>\n",
       "      <th>110503.0</th>\n",
       "      <td>refigure</td>\n",
       "      <td>1</td>\n",
       "    </tr>\n",
       "    <tr>\n",
       "      <th>110504.0</th>\n",
       "      <td>reeleth</td>\n",
       "      <td>1</td>\n",
       "    </tr>\n",
       "    <tr>\n",
       "      <th>110505.0</th>\n",
       "      <td>makeless</td>\n",
       "      <td>1</td>\n",
       "    </tr>\n",
       "  </tbody>\n",
       "</table>\n",
       "<p>110505 rows × 2 columns</p>\n",
       "</div>"
      ],
      "text/plain": [
       "               word    freq\n",
       "rank                       \n",
       "1.0             the  702465\n",
       "2.0              be  436114\n",
       "3.0             and  435424\n",
       "4.0              of  386347\n",
       "5.0              to  324409\n",
       "...             ...     ...\n",
       "110501.0  Unthrifty       1\n",
       "110502.0      leese       1\n",
       "110503.0   refigure       1\n",
       "110504.0    reeleth       1\n",
       "110505.0   makeless       1\n",
       "\n",
       "[110505 rows x 2 columns]"
      ]
     },
     "execution_count": 11,
     "metadata": {},
     "output_type": "execute_result"
    }
   ],
   "source": [
    "import pandas as pd\n",
    "\n",
    "freq_table = pd.DataFrame.from_dict(counter, orient='index').reset_index()\n",
    "freq_table = freq_table.rename(columns={'index':'word', 0:'freq'})\n",
    "freq_table = freq_table.sort_values('freq', ascending=False)\n",
    "freq_table['rank'] = freq_table['freq'].rank(method='first',ascending = False)\n",
    "  \n",
    "# Set the index to newly created column, Rating_Rank\n",
    "freq_table = freq_table.set_index('rank')\n",
    "freq_table.head(-10)"
   ]
  },
  {
   "cell_type": "markdown",
   "metadata": {
    "id": "CGpRkIBFIUhr"
   },
   "source": [
    "**(c) [10 pts]** Visualize the frequency table by plotting a **raw scatter plot** (put frequency as the y-axis and rank as the x-axis), and a **log-log plot** (use logarithmic scales on both the x- and y- axes). Note that this should be for all words and not only the top 50. As before, for the ranks, do not worry about ties, i.e., break ties arbitrarily."
   ]
  },
  {
   "cell_type": "code",
   "execution_count": 12,
   "metadata": {
    "id": "o70-u378IUhr"
   },
   "outputs": [
    {
     "data": {
      "text/plain": [
       "<matplotlib.collections.PathCollection at 0x7fd430c9e1c0>"
      ]
     },
     "execution_count": 12,
     "metadata": {},
     "output_type": "execute_result"
    },
    {
     "data": {
      "image/png": "[encoded data removed]",
      "text/plain": [
       "<Figure size 432x288 with 1 Axes>"
      ]
     },
     "metadata": {
      "needs_background": "light"
     },
     "output_type": "display_data"
    }
   ],
   "source": [
    "# Raw scatter plot\n",
    "########################################################################\n",
    "######################### \n",
    "\n",
    "import matplotlib.pyplot as plt\n",
    "plt.xlabel('Rank')\n",
    "plt.ylabel('Count')\n",
    "plt.scatter(freq_table.index, freq_table.freq)\n",
    "\n",
    "\n",
    "#########################\n",
    "########################################################################"
   ]
  },
  {
   "cell_type": "code",
   "execution_count": 13,
   "metadata": {
    "id": "toULd9vUIUhr"
   },
   "outputs": [
    {
     "data": {
      "text/plain": [
       "<matplotlib.collections.PathCollection at 0x7fd4c106e5b0>"
      ]
     },
     "execution_count": 13,
     "metadata": {},
     "output_type": "execute_result"
    },
    {
     "data": {
      "image/png": "[encoded data removed]",
      "text/plain": [
       "<Figure size 432x288 with 1 Axes>"
      ]
     },
     "metadata": {
      "needs_background": "light"
     },
     "output_type": "display_data"
    }
   ],
   "source": [
    "# Log-log plot\n",
    "########################################################################\n",
    "######################### \n",
    "\n",
    "plt.yscale('log')\n",
    "plt.xscale('log')\n",
    "plt.xlabel('Rank')\n",
    "plt.ylabel('Frequency')\n",
    "\n",
    "plt.scatter(freq_table.index, freq_table.freq)\n",
    "\n",
    "#########################\n",
    "########################################################################"
   ]
  },
  {
   "cell_type": "markdown",
   "metadata": {},
   "source": [
    "**Optional Analysis:**"
   ]
  },
  {
   "cell_type": "code",
   "execution_count": 14,
   "metadata": {},
   "outputs": [
    {
     "data": {
      "image/png": "[encoded data removed]",
      "text/plain": [
       "<Figure size 432x288 with 1 Axes>"
      ]
     },
     "metadata": {
      "needs_background": "light"
     },
     "output_type": "display_data"
    }
   ],
   "source": [
    "N= freq_table['freq'].sum()\n",
    "plt.yscale('log')\n",
    "plt.xscale('log')\n",
    "\n",
    "plt.plot(np.array(list(range(1, (freq_table.shape[0]+1)))), np.array(freq_table.freq))\n",
    "\n",
    "optimal_zipf = 1/(np.array(list(range(1, (freq_table.shape[0]+1))))* np.log(0.1*N))\n",
    "\n",
    "plt.plot(np.array(list(range(1, (freq_table.shape[0]+1)))), optimal_zipf)\n",
    "\n",
    "plt.show()"
   ]
  },
  {
   "cell_type": "code",
   "execution_count": 15,
   "metadata": {},
   "outputs": [
    {
     "name": "stdout",
     "output_type": "stream",
     "text": [
      "12082727\n"
     ]
    },
    {
     "data": {
      "text/html": [
       "<div>\n",
       "<style scoped>\n",
       "    .dataframe tbody tr th:only-of-type {\n",
       "        vertical-align: middle;\n",
       "    }\n",
       "\n",
       "    .dataframe tbody tr th {\n",
       "        vertical-align: top;\n",
       "    }\n",
       "\n",
       "    .dataframe thead th {\n",
       "        text-align: right;\n",
       "    }\n",
       "</style>\n",
       "<table border=\"1\" class=\"dataframe\">\n",
       "  <thead>\n",
       "    <tr style=\"text-align: right;\">\n",
       "      <th></th>\n",
       "      <th>word</th>\n",
       "      <th>freq</th>\n",
       "      <th>freq*rank</th>\n",
       "      <th>A*N</th>\n",
       "    </tr>\n",
       "    <tr>\n",
       "      <th>rank</th>\n",
       "      <th></th>\n",
       "      <th></th>\n",
       "      <th></th>\n",
       "      <th></th>\n",
       "    </tr>\n",
       "  </thead>\n",
       "  <tbody>\n",
       "    <tr>\n",
       "      <th>1.0</th>\n",
       "      <td>the</td>\n",
       "      <td>702465</td>\n",
       "      <td>702465.0</td>\n",
       "      <td>1208272.7</td>\n",
       "    </tr>\n",
       "    <tr>\n",
       "      <th>2.0</th>\n",
       "      <td>be</td>\n",
       "      <td>436114</td>\n",
       "      <td>872228.0</td>\n",
       "      <td>1208272.7</td>\n",
       "    </tr>\n",
       "    <tr>\n",
       "      <th>3.0</th>\n",
       "      <td>and</td>\n",
       "      <td>435424</td>\n",
       "      <td>1306272.0</td>\n",
       "      <td>1208272.7</td>\n",
       "    </tr>\n",
       "    <tr>\n",
       "      <th>4.0</th>\n",
       "      <td>of</td>\n",
       "      <td>386347</td>\n",
       "      <td>1545388.0</td>\n",
       "      <td>1208272.7</td>\n",
       "    </tr>\n",
       "    <tr>\n",
       "      <th>5.0</th>\n",
       "      <td>to</td>\n",
       "      <td>324409</td>\n",
       "      <td>1622045.0</td>\n",
       "      <td>1208272.7</td>\n",
       "    </tr>\n",
       "    <tr>\n",
       "      <th>...</th>\n",
       "      <td>...</td>\n",
       "      <td>...</td>\n",
       "      <td>...</td>\n",
       "      <td>...</td>\n",
       "    </tr>\n",
       "    <tr>\n",
       "      <th>110511.0</th>\n",
       "      <td>respose</td>\n",
       "      <td>1</td>\n",
       "      <td>110511.0</td>\n",
       "      <td>1208272.7</td>\n",
       "    </tr>\n",
       "    <tr>\n",
       "      <th>110512.0</th>\n",
       "      <td>twire</td>\n",
       "      <td>1</td>\n",
       "      <td>110512.0</td>\n",
       "      <td>1208272.7</td>\n",
       "    </tr>\n",
       "    <tr>\n",
       "      <th>110513.0</th>\n",
       "      <td>Lenapes</td>\n",
       "      <td>1</td>\n",
       "      <td>110513.0</td>\n",
       "      <td>1208272.7</td>\n",
       "    </tr>\n",
       "    <tr>\n",
       "      <th>110514.0</th>\n",
       "      <td>grievances</td>\n",
       "      <td>1</td>\n",
       "      <td>110514.0</td>\n",
       "      <td>1208272.7</td>\n",
       "    </tr>\n",
       "    <tr>\n",
       "      <th>110515.0</th>\n",
       "      <td>AVENUE</td>\n",
       "      <td>1</td>\n",
       "      <td>110515.0</td>\n",
       "      <td>1208272.7</td>\n",
       "    </tr>\n",
       "  </tbody>\n",
       "</table>\n",
       "<p>110515 rows × 4 columns</p>\n",
       "</div>"
      ],
      "text/plain": [
       "                word    freq  freq*rank        A*N\n",
       "rank                                              \n",
       "1.0              the  702465   702465.0  1208272.7\n",
       "2.0               be  436114   872228.0  1208272.7\n",
       "3.0              and  435424  1306272.0  1208272.7\n",
       "4.0               of  386347  1545388.0  1208272.7\n",
       "5.0               to  324409  1622045.0  1208272.7\n",
       "...              ...     ...        ...        ...\n",
       "110511.0     respose       1   110511.0  1208272.7\n",
       "110512.0       twire       1   110512.0  1208272.7\n",
       "110513.0     Lenapes       1   110513.0  1208272.7\n",
       "110514.0  grievances       1   110514.0  1208272.7\n",
       "110515.0      AVENUE       1   110515.0  1208272.7\n",
       "\n",
       "[110515 rows x 4 columns]"
      ]
     },
     "execution_count": 15,
     "metadata": {},
     "output_type": "execute_result"
    }
   ],
   "source": [
    "freq_table['freq*rank'] = freq_table['freq'] * freq_table.index\n",
    "freq_table['A*N'] = 0.1 * N\n",
    "print(N)\n",
    "freq_table"
   ]
  },
  {
   "cell_type": "markdown",
   "metadata": {
    "id": "VDfuokiVIUhr"
   },
   "source": [
    "**(d) [10 pts across subparts]** Let's now try to make sense of the very last plot in part **(c)**. Zipf's law states that term frequency is governed by a power law, i.e. the relationship between term frequency and rank can be approximated by $f(r) = cr^{-1}$, where $f(r)$ is the frequency of the term at rank $r$, $r$ is the rank of a term, and $c$ is a constant that is approximately 0.1*(corpus size) for English.\n",
    "\n",
    "Please answer the following questions:\n",
    "\n",
    "**Subpart i [3 pts].** What do you observe in the log-log plot above? Is this consist with the power law?"
   ]
  },
  {
   "cell_type": "markdown",
   "metadata": {
    "id": "OuxRv41gIUhr"
   },
   "source": [
    "Your text answer (for this question, your answer is *not* code): *** Log log plot has a linear shape to some degree, thus we can say that it is consistent with the Zipf's law. According to Zipf's law, multiplication of frequency of a word and its rank should be equal to multiplication of a pre-determined constant (0.1) and the corpus size (N=12082727). As it can be seen from the above dataframe under 'Optional Analysis' and the log log plot, multiplication numbers are very close especially for the higher ranked words, whereas the low frequency (lower ranked) words are generally below the Zipf's law requirement but the numbers are consistent overall. To strengthen my claim even further, after taking log of both sides of the Zipf's equation (log(𝑓(𝑟))= log(𝑐𝑟−1) >>> log(𝑓(𝑟))= -𝑐.log(𝑟)) we can clearly see that it should produce a line with negative slop c.   ***"
   ]
  },
  {
   "cell_type": "markdown",
   "metadata": {
    "id": "pGE9NFmKIUhs"
   },
   "source": [
    "**Subpart ii [4 pts].** Think of the corpus as a (large) unigram bag of words. Following the analogy from lecture, imagine drawing a single word from this big bag (note that we are assuming that we've lemmatized the words and also filtered out non-alphabetic words; thus what remains in the bag are actually alphabetic lemmas). What is the probability of drawing one of the 4 most frequent alphabetic lemmas? What is the probability of drawing one of the 50 most frequent alphabetic lemmas? Answer these two questions using code rather than just entering in the final answers as numbers."
   ]
  },
  {
   "cell_type": "code",
   "execution_count": 16,
   "metadata": {
    "id": "cTc9t8OhIUhs",
    "outputId": "84eb8f27-93d8-4228-e93a-4e518558e655"
   },
   "outputs": [
    {
     "name": "stdout",
     "output_type": "stream",
     "text": [
      "Probability of drawing one of the 4 most frequent alphabetic lemmas:  0.16\n",
      "Probability of drawing one of the 50 most frequent alphabetic lemmas:  0.48\n"
     ]
    }
   ],
   "source": [
    "########################################################################\n",
    "######################### \n",
    "\n",
    "N = freq_table['freq'].sum() #total number of lemmatized word in the corpus\n",
    "\n",
    "four_most_freq_sum = freq_table['freq'].head(4).sum()\n",
    "four_most_freq_prob = four_most_freq_sum / N\n",
    "\n",
    "print('Probability of drawing one of the 4 most frequent alphabetic lemmas: ', round(four_most_freq_prob,2))\n",
    "\n",
    "#########################\n",
    "########################################################################\n",
    "\n",
    "########################################################################\n",
    "######################### \n",
    "\n",
    "fifty_most_freq_sum = freq_table['freq'].head(50).sum()\n",
    "fifty_most_freq_prob = fifty_most_freq_sum / N\n",
    "\n",
    "print('Probability of drawing one of the 50 most frequent alphabetic lemmas: ', round(fifty_most_freq_prob,2))\n",
    "\n",
    "#########################\n",
    "########################################################################"
   ]
  },
  {
   "cell_type": "markdown",
   "metadata": {
    "id": "59gHjrftIUhs"
   },
   "source": [
    "**Subpart iii [3 pts].** What proportion of the alphabetic lemmas occur only once? What proportion of the alphabetic lemmas occur fewer than 10 times?"
   ]
  },
  {
   "cell_type": "code",
   "execution_count": 17,
   "metadata": {
    "id": "ZbyM-TU2IUhs",
    "outputId": "77d23ea6-cf4e-49a8-91a9-e80ad344706a",
    "scrolled": true
   },
   "outputs": [
    {
     "name": "stdout",
     "output_type": "stream",
     "text": [
      "Occur only once:  0.45\n",
      "Occur fewer than 10 times:  0.78\n"
     ]
    }
   ],
   "source": [
    "########################################################################\n",
    "######################### \n",
    "\n",
    "only_once = freq_table[freq_table['freq'] == 1]\n",
    "print(\"Occur only once: \", round(only_once.shape[0]/freq_table.shape[0], 2))\n",
    "\n",
    "#########################\n",
    "########################################################################\n",
    "\n",
    "\n",
    "########################################################################\n",
    "######################### \n",
    "\n",
    "less_ten = freq_table[freq_table['freq'] < 10]\n",
    "print(\"Occur fewer than 10 times: \", round(less_ten.shape[0]/freq_table.shape[0], 2))\n",
    "\n",
    "#########################\n",
    "########################################################################"
   ]
  },
  {
   "cell_type": "markdown",
   "metadata": {
    "id": "I63qS2ROIUhs"
   },
   "source": [
    "### [Problem 2] Entity Recognition and Pointwise Mutual Information (PMI) [55 pts]\n",
    "By using the entity recognition system in `spaCy`, let's identify named entities from newspaper articles. You'll be using Reuters corpus which contains more than ten thousand newspaper articles. To run the code below, you need to download the Reuters dataset. To do so, in a terminal/command line (recall that you can open a terminal from Jupyter's webpage that shows all the files, which by default is [http://localhost:8888/tree](http://localhost:8888/tree)), start up Python and enter:\n",
    "\n",
    "```python\n",
    "import nltk\n",
    "nltk.download('reuters')\n",
    "```\n",
    "\n",
    "Then proceed to the problem subparts below.\n",
    "\n",
    "Note that in this problem you will need named entity recognition but not grammatical parsing. Hence, you will want to instantiate the nlp object by calling:\n",
    "\n",
    "```python\n",
    "nlp = spacy.load('en_core_web_sm', disable=['parser'])\n",
    "```\n"
   ]
  },
  {
   "cell_type": "markdown",
   "metadata": {
    "id": "6xs7AaxHIUhs"
   },
   "source": [
    "**(a) [15 pts]** Draw a bar chart in which one of the axes shows entity labels and the other shows the frequency of the corresponding label. Use the variables `reuters_nlp` and `label_counter` provided in the code below."
   ]
  },
  {
   "cell_type": "code",
   "execution_count": 44,
   "metadata": {
    "colab": {
     "base_uri": "https://localhost:8080/"
    },
    "id": "aSZv6xESIqfo",
    "outputId": "ec8765c2-cd4c-4b45-aa15-64ee141bb342"
   },
   "outputs": [
    {
     "name": "stderr",
     "output_type": "stream",
     "text": [
      "[nltk_data] Downloading package reuters to\n",
      "[nltk_data]     /Users/kaankazancoglu/nltk_data...\n",
      "[nltk_data]   Package reuters is already up-to-date!\n"
     ]
    },
    {
     "data": {
      "text/plain": [
       "True"
      ]
     },
     "execution_count": 44,
     "metadata": {},
     "output_type": "execute_result"
    }
   ],
   "source": [
    "import nltk\n",
    "nltk.download('reuters')"
   ]
  },
  {
   "cell_type": "code",
   "execution_count": 18,
   "metadata": {
    "colab": {
     "base_uri": "https://localhost:8080/"
    },
    "id": "gok69eE5IUhs",
    "outputId": "4e2fe383-a0b5-4c78-f2b8-57004dda0c04",
    "scrolled": false
   },
   "outputs": [
    {
     "name": "stderr",
     "output_type": "stream",
     "text": [
      "/Users/kaankazancoglu/opt/anaconda3/lib/python3.9/site-packages/spacy/pipeline/lemmatizer.py:211: UserWarning: [W108] The rule-based lemmatizer did not find POS annotation for one or more tokens. Check that your pipeline includes components that assign token.pos, typically 'tagger'+'attribute_ruler' or 'morphologizer'.\n",
      "  warnings.warn(Warnings.W108)\n"
     ]
    },
    {
     "name": "stdout",
     "output_type": "stream",
     "text": [
      "Counter({'CARDINAL': 59787, 'ORG': 50331, 'DATE': 36747, 'GPE': 21609, 'PERSON': 11958, 'MONEY': 7932, 'NORP': 6353, 'QUANTITY': 4714, 'PRODUCT': 2188, 'LOC': 1682, 'ORDINAL': 1203, 'LAW': 1049, 'TIME': 908, 'FAC': 294, 'WORK_OF_ART': 217, 'PERCENT': 152, 'EVENT': 145, 'LANGUAGE': 25})\n",
      "         entity   freq\n",
      "4      CARDINAL  59787\n",
      "6           ORG  50331\n",
      "5          DATE  36747\n",
      "1           GPE  21609\n",
      "3        PERSON  11958\n",
      "7         MONEY   7932\n",
      "0          NORP   6353\n",
      "9      QUANTITY   4714\n",
      "11      PRODUCT   2188\n",
      "2           LOC   1682\n",
      "8       ORDINAL   1203\n",
      "12          LAW   1049\n",
      "10         TIME    908\n",
      "16          FAC    294\n",
      "14  WORK_OF_ART    217\n",
      "17      PERCENT    152\n",
      "13        EVENT    145\n",
      "15     LANGUAGE     25\n"
     ]
    },
    {
     "data": {
      "text/plain": [
       "<BarContainer object of 18 artists>"
      ]
     },
     "execution_count": 18,
     "metadata": {},
     "output_type": "execute_result"
    },
    {
     "data": {
      "image/png": "[encoded data removed]",
      "text/plain": [
       "<Figure size 720x360 with 1 Axes>"
      ]
     },
     "metadata": {
      "needs_background": "light"
     },
     "output_type": "display_data"
    }
   ],
   "source": [
    "import matplotlib.pyplot as plt\n",
    "from collections import Counter\n",
    "from nltk.corpus import reuters\n",
    "import re\n",
    "import spacy\n",
    "nlp = spacy.load('en_core_web_sm', disable=['parser', 'tagger'])\n",
    "reuters_fileids = reuters.fileids()  # hint: when first debugging, consider looking at just the first few\n",
    "reuters_nlp = [nlp(re.sub('\\s+',' ', reuters.raw(i)).strip()) for i in reuters_fileids]\n",
    "label_counter = Counter()\n",
    "\n",
    "\n",
    "########################################################################\n",
    "######################### \n",
    "\n",
    "for doc in reuters_nlp:\n",
    "    \n",
    "    labels = [ent.label_ for ent in doc.ents]\n",
    "    \n",
    "    label_counter.update(Counter(labels))\n",
    "    \n",
    "ent_freq_table = pd.DataFrame.from_dict(label_counter, orient='index').reset_index()\n",
    "ent_freq_table = ent_freq_table.rename(columns={'index':'entity', 0:'freq'})\n",
    "ent_freq_table = ent_freq_table.sort_values('freq', ascending=False)\n",
    "\n",
    "print(label_counter)   \n",
    "print(ent_freq_table)\n",
    "\n",
    "  \n",
    "fig = plt.figure(figsize = (10, 5))\n",
    "plt.xticks(rotation=45)\n",
    "plt.xlabel('Entity Label')\n",
    "plt.ylabel('Frequency')\n",
    "plt.bar(ent_freq_table.entity, ent_freq_table.freq, color ='maroon',\n",
    "        width = 0.4)   \n",
    "\n",
    "#########################\n",
    "########################################################################"
   ]
  },
  {
   "cell_type": "markdown",
   "metadata": {
    "id": "P2UQvizFIUhs"
   },
   "source": [
    "**(b) [20 pts]** Now list the top 10 most frequently occurring entities (entity text and the number of occurence) with label `ORG` (organization). Separately list the top 10 most frequently occurring entities with label `GPE` (geopolitical entity such as countries, cities, states) respectively. **In both cases, please convert the entity names to lowercase first before computing the top 10.**\n",
    "\n",
    "Here, when counting the (raw count) frequency, we need to count how many articles have an entity with the desired property. For every article, we add 1 if the article has the entity and 0 otherwise."
   ]
  },
  {
   "cell_type": "code",
   "execution_count": 19,
   "metadata": {
    "id": "0aRfGwKbIUht"
   },
   "outputs": [
    {
     "name": "stdout",
     "output_type": "stream",
     "text": [
      "Top 10 common organization names:\n",
      "cts: 1115\n",
      "reuters: 444\n",
      "the securities and exchange commission: 248\n",
      "ec: 231\n",
      "fed: 230\n",
      "treasury: 228\n",
      "cts net: 179\n",
      "the u.s. agriculture department: 170\n",
      "usda: 154\n",
      "the bank of england: 143\n",
      "\n",
      "Top 10 common GP entities:\n",
      "u.s.: 1631\n",
      "japan: 579\n",
      "the united states: 383\n",
      "u.k.: 297\n",
      "canada: 295\n",
      "new york: 251\n",
      "west germany: 236\n",
      "washington: 230\n",
      "london: 216\n",
      "brazil: 201\n"
     ]
    }
   ],
   "source": [
    "########################################################################\n",
    "######################### \n",
    "\n",
    "org_name_counter = Counter()\n",
    "gpe_name_counter = Counter()\n",
    "\n",
    "#We need to encircle each list comprehension with set() function because question asks us\n",
    "#to only increase the counter by one if the article has the entity, so we need to stop\n",
    "#counting duplicate entities.\n",
    "\n",
    "# Label ORG:\n",
    "for doc in reuters_nlp:\n",
    "    \n",
    "    names = set([ent.text.lower() for ent in doc.ents if ent.label_ == 'ORG'])\n",
    "    \n",
    "    org_name_counter.update(Counter(names))\n",
    "    \n",
    "print('Top 10 common organization names:')\n",
    "\n",
    "print(\"\\n\".join([\"%s: %d\" % (ent, cnt) for ent, cnt in org_name_counter.most_common(10)]))\n",
    "\n",
    "print()\n",
    "# Label GPE:\n",
    "\n",
    "for doc in reuters_nlp:\n",
    "    \n",
    "    names = set([ent.text.lower() for ent in doc.ents if ent.label_ == 'GPE'])\n",
    "    \n",
    "    gpe_name_counter.update(Counter(names))\n",
    "    \n",
    "print('Top 10 common GP entities:')\n",
    "\n",
    "print(\"\\n\".join([\"%s: %d\" % (ent, cnt) for ent, cnt in gpe_name_counter.most_common(10)]))\n",
    "\n",
    "\n",
    "#########################\n",
    "########################################################################"
   ]
  },
  {
   "cell_type": "markdown",
   "metadata": {
    "id": "awogDo8qIUht"
   },
   "source": [
    "**(c) [20 pts]** Give the top 50 `GPE` (countries, cities, states) entities that have the highest Pointwise Mutual Information (PMI) values with regard to the `ORG` (organization) entity **'opec'** (your list of this top 50 should be ranked in decreasing PMI value). Did you find any unexpected results? If so, why do you think it happened? If you found some of the results to be unsurprisingly, how come? **Just like in the previous part, please convert entity names to lowercase in your analysis.**\n",
    "\n",
    "Hint 1: As in lecture, when computing PMI, we will compute probabilities by counting the number of documents where entities occur or co-occur.  For example, $P('opec') = \\frac{number \\ \\ of \\ \\ documents \\ \\ containing \\ \\ 'opec'}{number \\ \\ of \\ \\ documents}$.  \n",
    "\n",
    "Hint 2: To compute this ranking, you do not have to compute the full PMI equation."
   ]
  },
  {
   "cell_type": "markdown",
   "metadata": {},
   "source": [
    "**Answer:** "
   ]
  },
  {
   "cell_type": "code",
   "execution_count": 20,
   "metadata": {
    "id": "MQhlS9DEIUht"
   },
   "outputs": [
    {
     "name": "stdout",
     "output_type": "stream",
     "text": [
      "                                        GPE  Co-Ocurrence count  GPE count  \\\n",
      "rank                                                                         \n",
      "1.0                              ula fields                   1        1.0   \n",
      "2.0                        the lake charles                   1        1.0   \n",
      "3.0                                bethesda                   1        1.0   \n",
      "4.0                                  franco                   1        1.0   \n",
      "5.0                               el salado                   1        1.0   \n",
      "6.0                                aguarico                   1        1.0   \n",
      "7.0                                  jubail                   1        1.0   \n",
      "8.0                                ju'aymah                   1        1.0   \n",
      "9.0                             ras tanurah                   1        1.0   \n",
      "10.0                                   doha                   1        1.0   \n",
      "11.0                                tihamah                   1        1.0   \n",
      "12.0                               redoglia                   1        1.0   \n",
      "13.0                             carrington                   1        1.0   \n",
      "14.0                              materialy                   1        1.0   \n",
      "15.0                                  brent                   2        2.0   \n",
      "16.0                               emirates                   2        2.0   \n",
      "17.0                                  gabon                   2        2.0   \n",
      "18.0                                   opec                   2        2.0   \n",
      "19.0  saudi arabia reiterates commitment to                   2        2.0   \n",
      "20.0                                  yanbu                   2        2.0   \n",
      "21.0                                tripoli                   2        2.0   \n",
      "22.0                              guayaquil                   2        2.0   \n",
      "23.0                                 vienna                  17       20.0   \n",
      "24.0                                 riyadh                   4        5.0   \n",
      "25.0                         saudi arabia's                  11       16.0   \n",
      "26.0                                  quito                   4        6.0   \n",
      "27.0                                  balao                   8       12.0   \n",
      "28.0                                  qatar                  15       26.0   \n",
      "29.0                                  dubai                   4        7.0   \n",
      "30.0                                caracas                   5        9.0   \n",
      "31.0                                  kahan                   1        2.0   \n",
      "32.0                                 nordic                   1        2.0   \n",
      "33.0                              statfjord                   1        2.0   \n",
      "34.0                                oseberg                   1        2.0   \n",
      "35.0                                     la                   1        2.0   \n",
      "36.0                                 dunham                   1        2.0   \n",
      "37.0                                nigeria                   9       18.0   \n",
      "38.0                                  libya                   6       13.0   \n",
      "39.0                                ecuador                  25       57.0   \n",
      "40.0                           saudi arabia                  27       64.0   \n",
      "41.0                                 kuwait                  27       68.0   \n",
      "42.0               the united arab emirates                  11       29.0   \n",
      "43.0                              venezuela                  17       47.0   \n",
      "44.0                             lago agrio                   1        3.0   \n",
      "45.0                               petromin                   1        3.0   \n",
      "46.0                             alexandria                   1        3.0   \n",
      "47.0                                  lagos                   1        3.0   \n",
      "48.0                                jakarta                   4       12.0   \n",
      "49.0                                jamaica                   2        7.0   \n",
      "50.0                                iceland                   1        4.0   \n",
      "\n",
      "      PMI ratio  \n",
      "rank             \n",
      "1.0    1.000000  \n",
      "2.0    1.000000  \n",
      "3.0    1.000000  \n",
      "4.0    1.000000  \n",
      "5.0    1.000000  \n",
      "6.0    1.000000  \n",
      "7.0    1.000000  \n",
      "8.0    1.000000  \n",
      "9.0    1.000000  \n",
      "10.0   1.000000  \n",
      "11.0   1.000000  \n",
      "12.0   1.000000  \n",
      "13.0   1.000000  \n",
      "14.0   1.000000  \n",
      "15.0   1.000000  \n",
      "16.0   1.000000  \n",
      "17.0   1.000000  \n",
      "18.0   1.000000  \n",
      "19.0   1.000000  \n",
      "20.0   1.000000  \n",
      "21.0   1.000000  \n",
      "22.0   1.000000  \n",
      "23.0   0.850000  \n",
      "24.0   0.800000  \n",
      "25.0   0.687500  \n",
      "26.0   0.666667  \n",
      "27.0   0.666667  \n",
      "28.0   0.576923  \n",
      "29.0   0.571429  \n",
      "30.0   0.555556  \n",
      "31.0   0.500000  \n",
      "32.0   0.500000  \n",
      "33.0   0.500000  \n",
      "34.0   0.500000  \n",
      "35.0   0.500000  \n",
      "36.0   0.500000  \n",
      "37.0   0.500000  \n",
      "38.0   0.461538  \n",
      "39.0   0.438596  \n",
      "40.0   0.421875  \n",
      "41.0   0.397059  \n",
      "42.0   0.379310  \n",
      "43.0   0.361702  \n",
      "44.0   0.333333  \n",
      "45.0   0.333333  \n",
      "46.0   0.333333  \n",
      "47.0   0.333333  \n",
      "48.0   0.333333  \n",
      "49.0   0.285714  \n",
      "50.0   0.250000  \n"
     ]
    }
   ],
   "source": [
    "########################################################################\n",
    "#########################\n",
    "\n",
    "gpe_and_opec_counter = Counter()\n",
    "gpe_counter = Counter()\n",
    "\n",
    "for doc in reuters_nlp:\n",
    "    \n",
    "    gpe = set([ent.text.lower() for ent in doc.ents if ent.label_ == \"GPE\"])\n",
    "    org = set([ent.text.lower() for ent in doc.ents if ent.label_ == \"ORG\"])\n",
    "    gpe_counter.update(gpe)\n",
    "    if 'opec' in org:\n",
    "        gpe_and_opec_counter.update(gpe)\n",
    "    else:\n",
    "        continue\n",
    "\n",
    "pmi_ratio = Counter()\n",
    "for gpe, co_occ_count in gpe_and_opec_counter.items():\n",
    "    pmi_ratio[gpe] = co_occ_count / gpe_counter[gpe]  \n",
    "\n",
    "pmi_table = pd.DataFrame.from_dict(pmi_ratio, orient='index').reset_index()\n",
    "pmi_table = pmi_table.rename(columns={'index':'GPE', 0:'PMI ratio'})\n",
    "pmi_table['Co-Ocurrence count'] =  gpe_and_opec_counter.values()\n",
    "pmi_table['GPE count'] = pmi_table['Co-Ocurrence count'] / pmi_table['PMI ratio']\n",
    "pmi_table = pmi_table[['GPE', 'Co-Ocurrence count', 'GPE count', 'PMI ratio']]\n",
    "pmi_table = pmi_table.sort_values(['PMI ratio', 'Co-Ocurrence count'], ascending=[False,True])\n",
    "pmi_table['rank'] = pmi_table['PMI ratio'].rank(method='first',ascending = False)\n",
    "pmi_table = pmi_table.set_index('rank')\n",
    "\n",
    "print(pmi_table.head(50))\n",
    "\n",
    "#########################\n",
    "########################################################################"
   ]
  },
  {
   "cell_type": "markdown",
   "metadata": {
    "id": "BIkSKMl1IUht"
   },
   "source": [
    "Your text answer (for this question, your answer is *not* code): *** First, We need to expand the PMI(opec,GPE) formula. log((# of docs both GPE and opec are in)/# of total doc)/ (P(opec)x(# of docs GPE is in)/(# of total doc))) >>> If we carry the denominator to numerator, we will be left with >>> log(# of docs both GPE and opec are in/(P(opec)x # of docs GPE is in)) >>> Here, the only think remains constant regardless of co-occurence of opec and GPE in each combination is P(opec). Since we are interested in comparing the relative PMI values of different opec and GPE combinations, it is safe to remove P(opec) from the equation >>> log(# of docs both GPE and opec are in/ # of docs GPE is in) >>> also, due to inside of logarithm function being positively correlated with the outcome of log function (if inside of a log increases, the result of the log should increase too) , we can remove the log sign as well. Final Equation to solve: **# of docs both GPE and opec are in / # of docs GPE is in** \n",
    "\n",
    "Unsurprisingly, Based on the definition of OPEC (The Organization of the Petroleum Exporting Countries), we should expect the organization 'opec' and opec affiliated geo political entities such as Saudi Arabia, Doha, Emirates, Kuwait and Qatar to co-occur more, therefore to have high PMI values. However, there are some words that appears quite rarely and by chance if they appear with 'opec' organization in the same document and also did not appear in other documents by itself(e.g. count= 1 or 2), they have high PMI values. Name entities that extremely rarely occurs is one of the huge problems we face while using spacy name entity recognition feature. One way to overcome this issue is to check the count of co-occurence and occurence as well as corresponding PMI ratios altogether, not just deciding the organization vs GPE relationship by analyzing PMI ratio.\n",
    "***"
   ]
  }
 ],
 "metadata": {
  "anaconda-cloud": {},
  "colab": {
   "provenance": []
  },
  "kernelspec": {
   "display_name": "Python 3 (ipykernel)",
   "language": "python",
   "name": "python3"
  },
  "language_info": {
   "codemirror_mode": {
    "name": "ipython",
    "version": 3
   },
   "file_extension": ".py",
   "mimetype": "text/x-python",
   "name": "python",
   "nbconvert_exporter": "python",
   "pygments_lexer": "ipython3",
   "version": "3.9.12"
  }
 },
 "nbformat": 4,
 "nbformat_minor": 1
}
